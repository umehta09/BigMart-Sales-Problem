{
 "cells": [
  {
   "cell_type": "markdown",
   "metadata": {},
   "source": [
    "## Project 1: BigMart sales problem solution using machine learning.\n",
    "#### Project by Umang Mehta Intern at Nuclei Technology."
   ]
  },
  {
   "cell_type": "code",
   "execution_count": 1,
   "metadata": {},
   "outputs": [],
   "source": [
    "#Importing Useful libraries for data analysis.\n",
    "import pandas as pd\n",
    "import seaborn as sns\n",
    "import numpy as np\n",
    "import matplotlib.pyplot as plt"
   ]
  },
  {
   "cell_type": "code",
   "execution_count": 2,
   "metadata": {},
   "outputs": [
    {
     "name": "stdout",
     "output_type": "stream",
     "text": [
      "Populating the interactive namespace from numpy and matplotlib\n"
     ]
    }
   ],
   "source": [
    "%pylab inline"
   ]
  },
  {
   "cell_type": "code",
   "execution_count": 3,
   "metadata": {},
   "outputs": [
    {
     "data": {
      "text/html": [
       "<div>\n",
       "<style scoped>\n",
       "    .dataframe tbody tr th:only-of-type {\n",
       "        vertical-align: middle;\n",
       "    }\n",
       "\n",
       "    .dataframe tbody tr th {\n",
       "        vertical-align: top;\n",
       "    }\n",
       "\n",
       "    .dataframe thead th {\n",
       "        text-align: right;\n",
       "    }\n",
       "</style>\n",
       "<table border=\"1\" class=\"dataframe\">\n",
       "  <thead>\n",
       "    <tr style=\"text-align: right;\">\n",
       "      <th></th>\n",
       "      <th>Item_Identifier</th>\n",
       "      <th>Item_Weight</th>\n",
       "      <th>Item_Fat_Content</th>\n",
       "      <th>Item_Visibility</th>\n",
       "      <th>Item_Type</th>\n",
       "      <th>Item_MRP</th>\n",
       "      <th>Outlet_Identifier</th>\n",
       "      <th>Outlet_Establishment_Year</th>\n",
       "      <th>Outlet_Size</th>\n",
       "      <th>Outlet_Location_Type</th>\n",
       "      <th>Outlet_Type</th>\n",
       "      <th>Item_Outlet_Sales</th>\n",
       "    </tr>\n",
       "  </thead>\n",
       "  <tbody>\n",
       "    <tr>\n",
       "      <th>0</th>\n",
       "      <td>FDA15</td>\n",
       "      <td>9.30</td>\n",
       "      <td>Low Fat</td>\n",
       "      <td>0.016047</td>\n",
       "      <td>Dairy</td>\n",
       "      <td>249.8092</td>\n",
       "      <td>OUT049</td>\n",
       "      <td>1999</td>\n",
       "      <td>Medium</td>\n",
       "      <td>Tier 1</td>\n",
       "      <td>Supermarket Type1</td>\n",
       "      <td>3735.1380</td>\n",
       "    </tr>\n",
       "    <tr>\n",
       "      <th>1</th>\n",
       "      <td>DRC01</td>\n",
       "      <td>5.92</td>\n",
       "      <td>Regular</td>\n",
       "      <td>0.019278</td>\n",
       "      <td>Soft Drinks</td>\n",
       "      <td>48.2692</td>\n",
       "      <td>OUT018</td>\n",
       "      <td>2009</td>\n",
       "      <td>Medium</td>\n",
       "      <td>Tier 3</td>\n",
       "      <td>Supermarket Type2</td>\n",
       "      <td>443.4228</td>\n",
       "    </tr>\n",
       "    <tr>\n",
       "      <th>2</th>\n",
       "      <td>FDN15</td>\n",
       "      <td>17.50</td>\n",
       "      <td>Low Fat</td>\n",
       "      <td>0.016760</td>\n",
       "      <td>Meat</td>\n",
       "      <td>141.6180</td>\n",
       "      <td>OUT049</td>\n",
       "      <td>1999</td>\n",
       "      <td>Medium</td>\n",
       "      <td>Tier 1</td>\n",
       "      <td>Supermarket Type1</td>\n",
       "      <td>2097.2700</td>\n",
       "    </tr>\n",
       "    <tr>\n",
       "      <th>3</th>\n",
       "      <td>FDX07</td>\n",
       "      <td>19.20</td>\n",
       "      <td>Regular</td>\n",
       "      <td>0.000000</td>\n",
       "      <td>Fruits and Vegetables</td>\n",
       "      <td>182.0950</td>\n",
       "      <td>OUT010</td>\n",
       "      <td>1998</td>\n",
       "      <td>NaN</td>\n",
       "      <td>Tier 3</td>\n",
       "      <td>Grocery Store</td>\n",
       "      <td>732.3800</td>\n",
       "    </tr>\n",
       "    <tr>\n",
       "      <th>4</th>\n",
       "      <td>NCD19</td>\n",
       "      <td>8.93</td>\n",
       "      <td>Low Fat</td>\n",
       "      <td>0.000000</td>\n",
       "      <td>Household</td>\n",
       "      <td>53.8614</td>\n",
       "      <td>OUT013</td>\n",
       "      <td>1987</td>\n",
       "      <td>High</td>\n",
       "      <td>Tier 3</td>\n",
       "      <td>Supermarket Type1</td>\n",
       "      <td>994.7052</td>\n",
       "    </tr>\n",
       "  </tbody>\n",
       "</table>\n",
       "</div>"
      ],
      "text/plain": [
       "  Item_Identifier  Item_Weight Item_Fat_Content  Item_Visibility  \\\n",
       "0           FDA15         9.30          Low Fat         0.016047   \n",
       "1           DRC01         5.92          Regular         0.019278   \n",
       "2           FDN15        17.50          Low Fat         0.016760   \n",
       "3           FDX07        19.20          Regular         0.000000   \n",
       "4           NCD19         8.93          Low Fat         0.000000   \n",
       "\n",
       "               Item_Type  Item_MRP Outlet_Identifier  \\\n",
       "0                  Dairy  249.8092            OUT049   \n",
       "1            Soft Drinks   48.2692            OUT018   \n",
       "2                   Meat  141.6180            OUT049   \n",
       "3  Fruits and Vegetables  182.0950            OUT010   \n",
       "4              Household   53.8614            OUT013   \n",
       "\n",
       "   Outlet_Establishment_Year Outlet_Size Outlet_Location_Type  \\\n",
       "0                       1999      Medium               Tier 1   \n",
       "1                       2009      Medium               Tier 3   \n",
       "2                       1999      Medium               Tier 1   \n",
       "3                       1998         NaN               Tier 3   \n",
       "4                       1987        High               Tier 3   \n",
       "\n",
       "         Outlet_Type  Item_Outlet_Sales  \n",
       "0  Supermarket Type1          3735.1380  \n",
       "1  Supermarket Type2           443.4228  \n",
       "2  Supermarket Type1          2097.2700  \n",
       "3      Grocery Store           732.3800  \n",
       "4  Supermarket Type1           994.7052  "
      ]
     },
     "execution_count": 3,
     "metadata": {},
     "output_type": "execute_result"
    }
   ],
   "source": [
    "#Loading datasets\n",
    "train=pd.read_csv(r\"C:\\Users\\umang\\Desktop\\Internship-NT(Project1)\\Train_UWu5bXk.csv\")\n",
    "test=pd.read_csv(r\"C:\\Users\\umang\\Desktop\\Internship-NT(Project1)\\Test_u94Q5KV.csv\")\n",
    "train.head()\n",
    "\n"
   ]
  },
  {
   "cell_type": "code",
   "execution_count": 4,
   "metadata": {},
   "outputs": [
    {
     "data": {
      "text/html": [
       "<div>\n",
       "<style scoped>\n",
       "    .dataframe tbody tr th:only-of-type {\n",
       "        vertical-align: middle;\n",
       "    }\n",
       "\n",
       "    .dataframe tbody tr th {\n",
       "        vertical-align: top;\n",
       "    }\n",
       "\n",
       "    .dataframe thead th {\n",
       "        text-align: right;\n",
       "    }\n",
       "</style>\n",
       "<table border=\"1\" class=\"dataframe\">\n",
       "  <thead>\n",
       "    <tr style=\"text-align: right;\">\n",
       "      <th></th>\n",
       "      <th>Item_Identifier</th>\n",
       "      <th>Item_Weight</th>\n",
       "      <th>Item_Fat_Content</th>\n",
       "      <th>Item_Visibility</th>\n",
       "      <th>Item_Type</th>\n",
       "      <th>Item_MRP</th>\n",
       "      <th>Outlet_Identifier</th>\n",
       "      <th>Outlet_Establishment_Year</th>\n",
       "      <th>Outlet_Size</th>\n",
       "      <th>Outlet_Location_Type</th>\n",
       "      <th>Outlet_Type</th>\n",
       "    </tr>\n",
       "  </thead>\n",
       "  <tbody>\n",
       "    <tr>\n",
       "      <th>0</th>\n",
       "      <td>FDW58</td>\n",
       "      <td>20.750</td>\n",
       "      <td>Low Fat</td>\n",
       "      <td>0.007565</td>\n",
       "      <td>Snack Foods</td>\n",
       "      <td>107.8622</td>\n",
       "      <td>OUT049</td>\n",
       "      <td>1999</td>\n",
       "      <td>Medium</td>\n",
       "      <td>Tier 1</td>\n",
       "      <td>Supermarket Type1</td>\n",
       "    </tr>\n",
       "    <tr>\n",
       "      <th>1</th>\n",
       "      <td>FDW14</td>\n",
       "      <td>8.300</td>\n",
       "      <td>reg</td>\n",
       "      <td>0.038428</td>\n",
       "      <td>Dairy</td>\n",
       "      <td>87.3198</td>\n",
       "      <td>OUT017</td>\n",
       "      <td>2007</td>\n",
       "      <td>NaN</td>\n",
       "      <td>Tier 2</td>\n",
       "      <td>Supermarket Type1</td>\n",
       "    </tr>\n",
       "    <tr>\n",
       "      <th>2</th>\n",
       "      <td>NCN55</td>\n",
       "      <td>14.600</td>\n",
       "      <td>Low Fat</td>\n",
       "      <td>0.099575</td>\n",
       "      <td>Others</td>\n",
       "      <td>241.7538</td>\n",
       "      <td>OUT010</td>\n",
       "      <td>1998</td>\n",
       "      <td>NaN</td>\n",
       "      <td>Tier 3</td>\n",
       "      <td>Grocery Store</td>\n",
       "    </tr>\n",
       "    <tr>\n",
       "      <th>3</th>\n",
       "      <td>FDQ58</td>\n",
       "      <td>7.315</td>\n",
       "      <td>Low Fat</td>\n",
       "      <td>0.015388</td>\n",
       "      <td>Snack Foods</td>\n",
       "      <td>155.0340</td>\n",
       "      <td>OUT017</td>\n",
       "      <td>2007</td>\n",
       "      <td>NaN</td>\n",
       "      <td>Tier 2</td>\n",
       "      <td>Supermarket Type1</td>\n",
       "    </tr>\n",
       "    <tr>\n",
       "      <th>4</th>\n",
       "      <td>FDY38</td>\n",
       "      <td>NaN</td>\n",
       "      <td>Regular</td>\n",
       "      <td>0.118599</td>\n",
       "      <td>Dairy</td>\n",
       "      <td>234.2300</td>\n",
       "      <td>OUT027</td>\n",
       "      <td>1985</td>\n",
       "      <td>Medium</td>\n",
       "      <td>Tier 3</td>\n",
       "      <td>Supermarket Type3</td>\n",
       "    </tr>\n",
       "  </tbody>\n",
       "</table>\n",
       "</div>"
      ],
      "text/plain": [
       "  Item_Identifier  Item_Weight Item_Fat_Content  Item_Visibility    Item_Type  \\\n",
       "0           FDW58       20.750          Low Fat         0.007565  Snack Foods   \n",
       "1           FDW14        8.300              reg         0.038428        Dairy   \n",
       "2           NCN55       14.600          Low Fat         0.099575       Others   \n",
       "3           FDQ58        7.315          Low Fat         0.015388  Snack Foods   \n",
       "4           FDY38          NaN          Regular         0.118599        Dairy   \n",
       "\n",
       "   Item_MRP Outlet_Identifier  Outlet_Establishment_Year Outlet_Size  \\\n",
       "0  107.8622            OUT049                       1999      Medium   \n",
       "1   87.3198            OUT017                       2007         NaN   \n",
       "2  241.7538            OUT010                       1998         NaN   \n",
       "3  155.0340            OUT017                       2007         NaN   \n",
       "4  234.2300            OUT027                       1985      Medium   \n",
       "\n",
       "  Outlet_Location_Type        Outlet_Type  \n",
       "0               Tier 1  Supermarket Type1  \n",
       "1               Tier 2  Supermarket Type1  \n",
       "2               Tier 3      Grocery Store  \n",
       "3               Tier 2  Supermarket Type1  \n",
       "4               Tier 3  Supermarket Type3  "
      ]
     },
     "execution_count": 4,
     "metadata": {},
     "output_type": "execute_result"
    }
   ],
   "source": [
    "#Displaying the dataset\n",
    "test.head()"
   ]
  },
  {
   "cell_type": "markdown",
   "metadata": {},
   "source": [
    "#### Describing the shape"
   ]
  },
  {
   "cell_type": "code",
   "execution_count": 5,
   "metadata": {},
   "outputs": [
    {
     "data": {
      "text/plain": [
       "(8523, 12)"
      ]
     },
     "execution_count": 5,
     "metadata": {},
     "output_type": "execute_result"
    }
   ],
   "source": [
    "#Displaying rows and columns of train data set\n",
    "train.shape"
   ]
  },
  {
   "cell_type": "code",
   "execution_count": 6,
   "metadata": {},
   "outputs": [
    {
     "data": {
      "text/plain": [
       "(5681, 11)"
      ]
     },
     "execution_count": 6,
     "metadata": {},
     "output_type": "execute_result"
    }
   ],
   "source": [
    "#Displaying rows and columns of test data set\n",
    "test.shape"
   ]
  },
  {
   "cell_type": "code",
   "execution_count": 7,
   "metadata": {},
   "outputs": [
    {
     "data": {
      "text/plain": [
       "Item_Identifier               object\n",
       "Item_Weight                  float64\n",
       "Item_Fat_Content              object\n",
       "Item_Visibility              float64\n",
       "Item_Type                     object\n",
       "Item_MRP                     float64\n",
       "Outlet_Identifier             object\n",
       "Outlet_Establishment_Year      int64\n",
       "Outlet_Size                   object\n",
       "Outlet_Location_Type          object\n",
       "Outlet_Type                   object\n",
       "Item_Outlet_Sales            float64\n",
       "dtype: object"
      ]
     },
     "execution_count": 7,
     "metadata": {},
     "output_type": "execute_result"
    }
   ],
   "source": [
    "train.dtypes"
   ]
  },
  {
   "cell_type": "code",
   "execution_count": 8,
   "metadata": {},
   "outputs": [
    {
     "data": {
      "text/html": [
       "<div>\n",
       "<style scoped>\n",
       "    .dataframe tbody tr th:only-of-type {\n",
       "        vertical-align: middle;\n",
       "    }\n",
       "\n",
       "    .dataframe tbody tr th {\n",
       "        vertical-align: top;\n",
       "    }\n",
       "\n",
       "    .dataframe thead th {\n",
       "        text-align: right;\n",
       "    }\n",
       "</style>\n",
       "<table border=\"1\" class=\"dataframe\">\n",
       "  <thead>\n",
       "    <tr style=\"text-align: right;\">\n",
       "      <th></th>\n",
       "      <th>Item_Identifier</th>\n",
       "      <th>Item_Weight</th>\n",
       "      <th>Item_Fat_Content</th>\n",
       "      <th>Item_Visibility</th>\n",
       "      <th>Item_Type</th>\n",
       "      <th>Item_MRP</th>\n",
       "      <th>Outlet_Identifier</th>\n",
       "      <th>Outlet_Establishment_Year</th>\n",
       "      <th>Outlet_Size</th>\n",
       "      <th>Outlet_Location_Type</th>\n",
       "      <th>Outlet_Type</th>\n",
       "      <th>Item_Outlet_Sales</th>\n",
       "    </tr>\n",
       "  </thead>\n",
       "  <tbody>\n",
       "    <tr>\n",
       "      <th>0</th>\n",
       "      <td>FDW58</td>\n",
       "      <td>20.750</td>\n",
       "      <td>Low Fat</td>\n",
       "      <td>0.007565</td>\n",
       "      <td>Snack Foods</td>\n",
       "      <td>107.8622</td>\n",
       "      <td>OUT049</td>\n",
       "      <td>1999</td>\n",
       "      <td>Medium</td>\n",
       "      <td>Tier 1</td>\n",
       "      <td>Supermarket Type1</td>\n",
       "      <td>NaN</td>\n",
       "    </tr>\n",
       "    <tr>\n",
       "      <th>1</th>\n",
       "      <td>FDW14</td>\n",
       "      <td>8.300</td>\n",
       "      <td>reg</td>\n",
       "      <td>0.038428</td>\n",
       "      <td>Dairy</td>\n",
       "      <td>87.3198</td>\n",
       "      <td>OUT017</td>\n",
       "      <td>2007</td>\n",
       "      <td>NaN</td>\n",
       "      <td>Tier 2</td>\n",
       "      <td>Supermarket Type1</td>\n",
       "      <td>NaN</td>\n",
       "    </tr>\n",
       "    <tr>\n",
       "      <th>2</th>\n",
       "      <td>NCN55</td>\n",
       "      <td>14.600</td>\n",
       "      <td>Low Fat</td>\n",
       "      <td>0.099575</td>\n",
       "      <td>Others</td>\n",
       "      <td>241.7538</td>\n",
       "      <td>OUT010</td>\n",
       "      <td>1998</td>\n",
       "      <td>NaN</td>\n",
       "      <td>Tier 3</td>\n",
       "      <td>Grocery Store</td>\n",
       "      <td>NaN</td>\n",
       "    </tr>\n",
       "    <tr>\n",
       "      <th>3</th>\n",
       "      <td>FDQ58</td>\n",
       "      <td>7.315</td>\n",
       "      <td>Low Fat</td>\n",
       "      <td>0.015388</td>\n",
       "      <td>Snack Foods</td>\n",
       "      <td>155.0340</td>\n",
       "      <td>OUT017</td>\n",
       "      <td>2007</td>\n",
       "      <td>NaN</td>\n",
       "      <td>Tier 2</td>\n",
       "      <td>Supermarket Type1</td>\n",
       "      <td>NaN</td>\n",
       "    </tr>\n",
       "    <tr>\n",
       "      <th>4</th>\n",
       "      <td>FDY38</td>\n",
       "      <td>NaN</td>\n",
       "      <td>Regular</td>\n",
       "      <td>0.118599</td>\n",
       "      <td>Dairy</td>\n",
       "      <td>234.2300</td>\n",
       "      <td>OUT027</td>\n",
       "      <td>1985</td>\n",
       "      <td>Medium</td>\n",
       "      <td>Tier 3</td>\n",
       "      <td>Supermarket Type3</td>\n",
       "      <td>NaN</td>\n",
       "    </tr>\n",
       "  </tbody>\n",
       "</table>\n",
       "</div>"
      ],
      "text/plain": [
       "  Item_Identifier  Item_Weight Item_Fat_Content  Item_Visibility    Item_Type  \\\n",
       "0           FDW58       20.750          Low Fat         0.007565  Snack Foods   \n",
       "1           FDW14        8.300              reg         0.038428        Dairy   \n",
       "2           NCN55       14.600          Low Fat         0.099575       Others   \n",
       "3           FDQ58        7.315          Low Fat         0.015388  Snack Foods   \n",
       "4           FDY38          NaN          Regular         0.118599        Dairy   \n",
       "\n",
       "   Item_MRP Outlet_Identifier  Outlet_Establishment_Year Outlet_Size  \\\n",
       "0  107.8622            OUT049                       1999      Medium   \n",
       "1   87.3198            OUT017                       2007         NaN   \n",
       "2  241.7538            OUT010                       1998         NaN   \n",
       "3  155.0340            OUT017                       2007         NaN   \n",
       "4  234.2300            OUT027                       1985      Medium   \n",
       "\n",
       "  Outlet_Location_Type        Outlet_Type  Item_Outlet_Sales  \n",
       "0               Tier 1  Supermarket Type1                NaN  \n",
       "1               Tier 2  Supermarket Type1                NaN  \n",
       "2               Tier 3      Grocery Store                NaN  \n",
       "3               Tier 2  Supermarket Type1                NaN  \n",
       "4               Tier 3  Supermarket Type3                NaN  "
      ]
     },
     "execution_count": 8,
     "metadata": {},
     "output_type": "execute_result"
    }
   ],
   "source": [
    "#adding a new column item_outlet_sales with null value for further process\n",
    "test[\"Item_Outlet_Sales\"]=NaN\n",
    "test.head()"
   ]
  },
  {
   "cell_type": "markdown",
   "metadata": {},
   "source": [
    "# Data Exploration"
   ]
  },
  {
   "cell_type": "code",
   "execution_count": 9,
   "metadata": {},
   "outputs": [
    {
     "data": {
      "text/html": [
       "<div>\n",
       "<style scoped>\n",
       "    .dataframe tbody tr th:only-of-type {\n",
       "        vertical-align: middle;\n",
       "    }\n",
       "\n",
       "    .dataframe tbody tr th {\n",
       "        vertical-align: top;\n",
       "    }\n",
       "\n",
       "    .dataframe thead th {\n",
       "        text-align: right;\n",
       "    }\n",
       "</style>\n",
       "<table border=\"1\" class=\"dataframe\">\n",
       "  <thead>\n",
       "    <tr style=\"text-align: right;\">\n",
       "      <th></th>\n",
       "      <th>Item_Identifier</th>\n",
       "      <th>Item_Weight</th>\n",
       "      <th>Item_Fat_Content</th>\n",
       "      <th>Item_Visibility</th>\n",
       "      <th>Item_Type</th>\n",
       "      <th>Item_MRP</th>\n",
       "      <th>Outlet_Identifier</th>\n",
       "      <th>Outlet_Establishment_Year</th>\n",
       "      <th>Outlet_Size</th>\n",
       "      <th>Outlet_Location_Type</th>\n",
       "      <th>Outlet_Type</th>\n",
       "      <th>Item_Outlet_Sales</th>\n",
       "    </tr>\n",
       "  </thead>\n",
       "  <tbody>\n",
       "    <tr>\n",
       "      <th>0</th>\n",
       "      <td>FDA15</td>\n",
       "      <td>9.30</td>\n",
       "      <td>Low Fat</td>\n",
       "      <td>0.016047</td>\n",
       "      <td>Dairy</td>\n",
       "      <td>249.8092</td>\n",
       "      <td>OUT049</td>\n",
       "      <td>1999</td>\n",
       "      <td>Medium</td>\n",
       "      <td>Tier 1</td>\n",
       "      <td>Supermarket Type1</td>\n",
       "      <td>3735.1380</td>\n",
       "    </tr>\n",
       "    <tr>\n",
       "      <th>1</th>\n",
       "      <td>DRC01</td>\n",
       "      <td>5.92</td>\n",
       "      <td>Regular</td>\n",
       "      <td>0.019278</td>\n",
       "      <td>Soft Drinks</td>\n",
       "      <td>48.2692</td>\n",
       "      <td>OUT018</td>\n",
       "      <td>2009</td>\n",
       "      <td>Medium</td>\n",
       "      <td>Tier 3</td>\n",
       "      <td>Supermarket Type2</td>\n",
       "      <td>443.4228</td>\n",
       "    </tr>\n",
       "    <tr>\n",
       "      <th>2</th>\n",
       "      <td>FDN15</td>\n",
       "      <td>17.50</td>\n",
       "      <td>Low Fat</td>\n",
       "      <td>0.016760</td>\n",
       "      <td>Meat</td>\n",
       "      <td>141.6180</td>\n",
       "      <td>OUT049</td>\n",
       "      <td>1999</td>\n",
       "      <td>Medium</td>\n",
       "      <td>Tier 1</td>\n",
       "      <td>Supermarket Type1</td>\n",
       "      <td>2097.2700</td>\n",
       "    </tr>\n",
       "    <tr>\n",
       "      <th>3</th>\n",
       "      <td>FDX07</td>\n",
       "      <td>19.20</td>\n",
       "      <td>Regular</td>\n",
       "      <td>0.000000</td>\n",
       "      <td>Fruits and Vegetables</td>\n",
       "      <td>182.0950</td>\n",
       "      <td>OUT010</td>\n",
       "      <td>1998</td>\n",
       "      <td>NaN</td>\n",
       "      <td>Tier 3</td>\n",
       "      <td>Grocery Store</td>\n",
       "      <td>732.3800</td>\n",
       "    </tr>\n",
       "    <tr>\n",
       "      <th>4</th>\n",
       "      <td>NCD19</td>\n",
       "      <td>8.93</td>\n",
       "      <td>Low Fat</td>\n",
       "      <td>0.000000</td>\n",
       "      <td>Household</td>\n",
       "      <td>53.8614</td>\n",
       "      <td>OUT013</td>\n",
       "      <td>1987</td>\n",
       "      <td>High</td>\n",
       "      <td>Tier 3</td>\n",
       "      <td>Supermarket Type1</td>\n",
       "      <td>994.7052</td>\n",
       "    </tr>\n",
       "  </tbody>\n",
       "</table>\n",
       "</div>"
      ],
      "text/plain": [
       "  Item_Identifier  Item_Weight Item_Fat_Content  Item_Visibility  \\\n",
       "0           FDA15         9.30          Low Fat         0.016047   \n",
       "1           DRC01         5.92          Regular         0.019278   \n",
       "2           FDN15        17.50          Low Fat         0.016760   \n",
       "3           FDX07        19.20          Regular         0.000000   \n",
       "4           NCD19         8.93          Low Fat         0.000000   \n",
       "\n",
       "               Item_Type  Item_MRP Outlet_Identifier  \\\n",
       "0                  Dairy  249.8092            OUT049   \n",
       "1            Soft Drinks   48.2692            OUT018   \n",
       "2                   Meat  141.6180            OUT049   \n",
       "3  Fruits and Vegetables  182.0950            OUT010   \n",
       "4              Household   53.8614            OUT013   \n",
       "\n",
       "   Outlet_Establishment_Year Outlet_Size Outlet_Location_Type  \\\n",
       "0                       1999      Medium               Tier 1   \n",
       "1                       2009      Medium               Tier 3   \n",
       "2                       1999      Medium               Tier 1   \n",
       "3                       1998         NaN               Tier 3   \n",
       "4                       1987        High               Tier 3   \n",
       "\n",
       "         Outlet_Type  Item_Outlet_Sales  \n",
       "0  Supermarket Type1          3735.1380  \n",
       "1  Supermarket Type2           443.4228  \n",
       "2  Supermarket Type1          2097.2700  \n",
       "3      Grocery Store           732.3800  \n",
       "4  Supermarket Type1           994.7052  "
      ]
     },
     "execution_count": 9,
     "metadata": {},
     "output_type": "execute_result"
    }
   ],
   "source": [
    "#combining test and train dataset for analysis\n",
    "combi=pd.concat([train, test])\n",
    "combi.shape\n",
    "combi.head()"
   ]
  },
  {
   "cell_type": "code",
   "execution_count": 10,
   "metadata": {},
   "outputs": [
    {
     "data": {
      "text/html": [
       "<div>\n",
       "<style scoped>\n",
       "    .dataframe tbody tr th:only-of-type {\n",
       "        vertical-align: middle;\n",
       "    }\n",
       "\n",
       "    .dataframe tbody tr th {\n",
       "        vertical-align: top;\n",
       "    }\n",
       "\n",
       "    .dataframe thead th {\n",
       "        text-align: right;\n",
       "    }\n",
       "</style>\n",
       "<table border=\"1\" class=\"dataframe\">\n",
       "  <thead>\n",
       "    <tr style=\"text-align: right;\">\n",
       "      <th></th>\n",
       "      <th>Item_Weight</th>\n",
       "      <th>Item_Visibility</th>\n",
       "      <th>Item_MRP</th>\n",
       "      <th>Outlet_Establishment_Year</th>\n",
       "      <th>Item_Outlet_Sales</th>\n",
       "    </tr>\n",
       "  </thead>\n",
       "  <tbody>\n",
       "    <tr>\n",
       "      <th>count</th>\n",
       "      <td>11765.000000</td>\n",
       "      <td>14204.000000</td>\n",
       "      <td>14204.000000</td>\n",
       "      <td>14204.000000</td>\n",
       "      <td>8523.000000</td>\n",
       "    </tr>\n",
       "    <tr>\n",
       "      <th>mean</th>\n",
       "      <td>12.792854</td>\n",
       "      <td>0.065953</td>\n",
       "      <td>141.004977</td>\n",
       "      <td>1997.830681</td>\n",
       "      <td>2181.288914</td>\n",
       "    </tr>\n",
       "    <tr>\n",
       "      <th>std</th>\n",
       "      <td>4.652502</td>\n",
       "      <td>0.051459</td>\n",
       "      <td>62.086938</td>\n",
       "      <td>8.371664</td>\n",
       "      <td>1706.499616</td>\n",
       "    </tr>\n",
       "    <tr>\n",
       "      <th>min</th>\n",
       "      <td>4.555000</td>\n",
       "      <td>0.000000</td>\n",
       "      <td>31.290000</td>\n",
       "      <td>1985.000000</td>\n",
       "      <td>33.290000</td>\n",
       "    </tr>\n",
       "    <tr>\n",
       "      <th>25%</th>\n",
       "      <td>8.710000</td>\n",
       "      <td>0.027036</td>\n",
       "      <td>94.012000</td>\n",
       "      <td>1987.000000</td>\n",
       "      <td>834.247400</td>\n",
       "    </tr>\n",
       "    <tr>\n",
       "      <th>50%</th>\n",
       "      <td>12.600000</td>\n",
       "      <td>0.054021</td>\n",
       "      <td>142.247000</td>\n",
       "      <td>1999.000000</td>\n",
       "      <td>1794.331000</td>\n",
       "    </tr>\n",
       "    <tr>\n",
       "      <th>75%</th>\n",
       "      <td>16.750000</td>\n",
       "      <td>0.094037</td>\n",
       "      <td>185.855600</td>\n",
       "      <td>2004.000000</td>\n",
       "      <td>3101.296400</td>\n",
       "    </tr>\n",
       "    <tr>\n",
       "      <th>max</th>\n",
       "      <td>21.350000</td>\n",
       "      <td>0.328391</td>\n",
       "      <td>266.888400</td>\n",
       "      <td>2009.000000</td>\n",
       "      <td>13086.964800</td>\n",
       "    </tr>\n",
       "  </tbody>\n",
       "</table>\n",
       "</div>"
      ],
      "text/plain": [
       "        Item_Weight  Item_Visibility      Item_MRP  Outlet_Establishment_Year  \\\n",
       "count  11765.000000     14204.000000  14204.000000               14204.000000   \n",
       "mean      12.792854         0.065953    141.004977                1997.830681   \n",
       "std        4.652502         0.051459     62.086938                   8.371664   \n",
       "min        4.555000         0.000000     31.290000                1985.000000   \n",
       "25%        8.710000         0.027036     94.012000                1987.000000   \n",
       "50%       12.600000         0.054021    142.247000                1999.000000   \n",
       "75%       16.750000         0.094037    185.855600                2004.000000   \n",
       "max       21.350000         0.328391    266.888400                2009.000000   \n",
       "\n",
       "       Item_Outlet_Sales  \n",
       "count        8523.000000  \n",
       "mean         2181.288914  \n",
       "std          1706.499616  \n",
       "min            33.290000  \n",
       "25%           834.247400  \n",
       "50%          1794.331000  \n",
       "75%          3101.296400  \n",
       "max         13086.964800  "
      ]
     },
     "execution_count": 10,
     "metadata": {},
     "output_type": "execute_result"
    }
   ],
   "source": [
    "#Box Plot\n",
    "combi.describe()\n",
    "#Item_Visibilty has 0 as value which is not possible and has to be dealt."
   ]
  },
  {
   "cell_type": "code",
   "execution_count": 11,
   "metadata": {},
   "outputs": [
    {
     "data": {
      "text/plain": [
       "Item_Identifier                 0\n",
       "Item_Weight                  2439\n",
       "Item_Fat_Content                0\n",
       "Item_Visibility                 0\n",
       "Item_Type                       0\n",
       "Item_MRP                        0\n",
       "Outlet_Identifier               0\n",
       "Outlet_Establishment_Year       0\n",
       "Outlet_Size                  4016\n",
       "Outlet_Location_Type            0\n",
       "Outlet_Type                     0\n",
       "Item_Outlet_Sales            5681\n",
       "dtype: int64"
      ]
     },
     "execution_count": 11,
     "metadata": {},
     "output_type": "execute_result"
    }
   ],
   "source": [
    "combi.isnull().sum()\n",
    "#Item_Weight, Outlet_Size missing values has to be dealt."
   ]
  },
  {
   "cell_type": "code",
   "execution_count": 12,
   "metadata": {},
   "outputs": [
    {
     "data": {
      "text/plain": [
       "<matplotlib.axes._subplots.AxesSubplot at 0x2a354a22248>"
      ]
     },
     "execution_count": 12,
     "metadata": {},
     "output_type": "execute_result"
    },
    {
     "data": {
      "image/png": "[encoded data removed]",
      "text/plain": [
       "<Figure size 432x288 with 1 Axes>"
      ]
     },
     "metadata": {
      "needs_background": "light"
     },
     "output_type": "display_data"
    }
   ],
   "source": [
    "combi.boxplot(column=\"Item_MRP\")\n",
    "#No outlier found"
   ]
  },
  {
   "cell_type": "code",
   "execution_count": 13,
   "metadata": {},
   "outputs": [
    {
     "data": {
      "text/plain": [
       "<matplotlib.axes._subplots.AxesSubplot at 0x2a35687d888>"
      ]
     },
     "execution_count": 13,
     "metadata": {},
     "output_type": "execute_result"
    },
    {
     "data": {
      "image/png": "[encoded data removed]",
      "text/plain": [
       "<Figure size 432x288 with 1 Axes>"
      ]
     },
     "metadata": {
      "needs_background": "light"
     },
     "output_type": "display_data"
    }
   ],
   "source": [
    "combi.boxplot(column=\"Item_Weight\")\n",
    "#No outlier found"
   ]
  },
  {
   "cell_type": "code",
   "execution_count": 14,
   "metadata": {},
   "outputs": [
    {
     "data": {
      "text/plain": [
       "<matplotlib.axes._subplots.AxesSubplot at 0x2a3568ffd48>"
      ]
     },
     "execution_count": 14,
     "metadata": {},
     "output_type": "execute_result"
    },
    {
     "data": {
      "image/png": "[encoded data removed]",
      "text/plain": [
       "<Figure size 432x288 with 1 Axes>"
      ]
     },
     "metadata": {
      "needs_background": "light"
     },
     "output_type": "display_data"
    }
   ],
   "source": [
    "combi.boxplot(column=\"Item_Visibility\")\n",
    "#Outlier found"
   ]
  },
  {
   "cell_type": "markdown",
   "metadata": {},
   "source": [
    "# Univariate Data Analysis"
   ]
  },
  {
   "cell_type": "markdown",
   "metadata": {},
   "source": [
    "### Lets first segreagate continous and categorical data\n",
    "#### Continous data columns: Item_weight,Item_Visibility, Item_MRP\n",
    "#### Categorical data columns: Item_fat_Content, Item_type, outlet_identifier, outlet_size, outlet_establishment_year, outlet_type"
   ]
  },
  {
   "cell_type": "code",
   "execution_count": 15,
   "metadata": {},
   "outputs": [
    {
     "name": "stderr",
     "output_type": "stream",
     "text": [
      "C:\\Users\\umang\\anaconda3\\lib\\site-packages\\numpy\\lib\\histograms.py:839: RuntimeWarning: invalid value encountered in greater_equal\n",
      "  keep = (tmp_a >= first_edge)\n",
      "C:\\Users\\umang\\anaconda3\\lib\\site-packages\\numpy\\lib\\histograms.py:840: RuntimeWarning: invalid value encountered in less_equal\n",
      "  keep &= (tmp_a <= last_edge)\n"
     ]
    },
    {
     "data": {
      "text/plain": [
       "Text(0, 0.5, 'Count')"
      ]
     },
     "execution_count": 15,
     "metadata": {},
     "output_type": "execute_result"
    },
    {
     "data": {
      "image/png": "[encoded data removed]",
      "text/plain": [
       "<Figure size 1080x360 with 3 Axes>"
      ]
     },
     "metadata": {
      "needs_background": "light"
     },
     "output_type": "display_data"
    }
   ],
   "source": [
    "#Plotting histogram for all continous data columns\n",
    "#Reference:https://matplotlib.org/3.1.1/gallery/statistics/hist.html\n",
    "fig,axs = plt.subplots(nrows=1, ncols=3,figsize=(15,5))\n",
    "#For Item_Weight\n",
    "axs[0].hist(combi[\"Item_Weight\"],bins=100)\n",
    "axs[0].set_xlabel(\"Item_Weight\",size=15)\n",
    "axs[0].set_ylabel(\"Count\",size=15)\n",
    "#For Item_Visibility\n",
    "axs[1].hist(combi[\"Item_Visibility\"],bins=100)\n",
    "axs[1].set_xlabel(\"Item_Visibility\",size=15)\n",
    "axs[1].set_ylabel(\"Count\",size=15)\n",
    "#For Item_MRP\n",
    "axs[2].hist(combi[\"Item_MRP\"],bins=100)\n",
    "axs[2].set_xlabel(\"Item_MRP\",size=15)\n",
    "axs[2].set_ylabel(\"Count\",size=15)\n",
    "#Observation after plotting\n",
    "#There is no clear pattern in Item_Weight and Item_MRP, but Item_Visibility is right(Positive)-skewed and should be Normalised."
   ]
  },
  {
   "cell_type": "code",
   "execution_count": 16,
   "metadata": {},
   "outputs": [
    {
     "data": {
      "text/plain": [
       "<matplotlib.axes._subplots.AxesSubplot at 0x2a356ddb2c8>"
      ]
     },
     "execution_count": 16,
     "metadata": {},
     "output_type": "execute_result"
    },
    {
     "data": {
      "image/png": "[encoded data removed]",
      "text/plain": [
       "<Figure size 432x288 with 1 Axes>"
      ]
     },
     "metadata": {
      "needs_background": "light"
     },
     "output_type": "display_data"
    }
   ],
   "source": [
    "combi[\"Item_Fat_Content\"].value_counts().plot(kind=\"bar\")\n",
    "#Mismatched levels observed"
   ]
  },
  {
   "cell_type": "code",
   "execution_count": 17,
   "metadata": {},
   "outputs": [
    {
     "data": {
      "text/plain": [
       "Text(0, 0.5, 'Count')"
      ]
     },
     "execution_count": 17,
     "metadata": {},
     "output_type": "execute_result"
    },
    {
     "data": {
      "image/png": "[encoded data removed]",
      "text/plain": [
       "<Figure size 432x288 with 1 Axes>"
      ]
     },
     "metadata": {
      "needs_background": "light"
     },
     "output_type": "display_data"
    }
   ],
   "source": [
    "combi['Item_Fat_Content'].replace('LF','Low Fat', inplace=True)\n",
    "combi['Item_Fat_Content'].replace('low fat','Low Fat', inplace=True)\n",
    "combi['Item_Fat_Content'].replace('reg','Regular', inplace=True)\n",
    "combi[\"Item_Fat_Content\"].value_counts().plot(kind=\"bar\")\n",
    "plt.xlabel(\"Item_Fat_Content\", size=15)\n",
    "plt.ylabel(\"Count\",size=15)\n",
    "#Mismatched levels removed"
   ]
  },
  {
   "cell_type": "code",
   "execution_count": 18,
   "metadata": {},
   "outputs": [
    {
     "data": {
      "text/plain": [
       "Text(0, 0.5, 'Count')"
      ]
     },
     "execution_count": 18,
     "metadata": {},
     "output_type": "execute_result"
    },
    {
     "data": {
      "image/png": "[encoded data removed]",
      "text/plain": [
       "<Figure size 1080x360 with 1 Axes>"
      ]
     },
     "metadata": {
      "needs_background": "light"
     },
     "output_type": "display_data"
    }
   ],
   "source": [
    "plt.figure(figsize=(15,5))\n",
    "combi['Item_Type'].value_counts().plot(kind='bar')\n",
    "plt.xlabel(\"Item_Type\",size=15)\n",
    "plt.ylabel(\"Count\",size=15)\n",
    "#Fruits and vegetables plays has the number of customers follwed by snack foods."
   ]
  },
  {
   "cell_type": "code",
   "execution_count": 19,
   "metadata": {},
   "outputs": [
    {
     "name": "stdout",
     "output_type": "stream",
     "text": [
      "Null value replaced by small and has become zero now: 0\n"
     ]
    },
    {
     "data": {
      "text/plain": [
       "Text(0, 0.5, 'Count')"
      ]
     },
     "execution_count": 19,
     "metadata": {},
     "output_type": "execute_result"
    },
    {
     "data": {
      "image/png": "[encoded data removed]",
      "text/plain": [
       "<Figure size 432x288 with 1 Axes>"
      ]
     },
     "metadata": {
      "needs_background": "light"
     },
     "output_type": "display_data"
    }
   ],
   "source": [
    "#We have observed that there are 4016 missing values in Outlet_Size, So I've replaced it with its mode value that is \"Small\"\n",
    "combi[\"Outlet_Size\"].fillna(\"Small\",inplace=True)\n",
    "print(\"Null value replaced by small and has become zero now:\",combi[\"Outlet_Size\"].isnull().sum())\n",
    "combi[\"Outlet_Size\"].value_counts().plot(kind=\"bar\")\n",
    "plt.xlabel(\"Outlet_Size\",size=15)\n",
    "plt.ylabel(\"Count\",size=15)\n",
    "#Outlet_size had unmatched levels as in 4016 observations where ull and is being replaced successfully"
   ]
  },
  {
   "cell_type": "code",
   "execution_count": 20,
   "metadata": {},
   "outputs": [
    {
     "data": {
      "text/plain": [
       "Text(0, 0.5, 'Count')"
      ]
     },
     "execution_count": 20,
     "metadata": {},
     "output_type": "execute_result"
    },
    {
     "data": {
      "image/png": "[encoded data removed]",
      "text/plain": [
       "<Figure size 720x360 with 1 Axes>"
      ]
     },
     "metadata": {
      "needs_background": "light"
     },
     "output_type": "display_data"
    }
   ],
   "source": [
    "plt.figure(figsize=(10,5))\n",
    "combi['Outlet_Identifier'].value_counts().plot(kind='bar')\n",
    "plt.xlabel(\"Outlet_Identifier\",size=15)\n",
    "plt.ylabel(\"Count\",size=15)"
   ]
  },
  {
   "cell_type": "code",
   "execution_count": 21,
   "metadata": {},
   "outputs": [
    {
     "data": {
      "text/plain": [
       "Text(0, 0.5, 'Count')"
      ]
     },
     "execution_count": 21,
     "metadata": {},
     "output_type": "execute_result"
    },
    {
     "data": {
      "image/png": "[encoded data removed]",
      "text/plain": [
       "<Figure size 720x360 with 1 Axes>"
      ]
     },
     "metadata": {
      "needs_background": "light"
     },
     "output_type": "display_data"
    }
   ],
   "source": [
    "plt.figure(figsize=(10,5))\n",
    "combi['Outlet_Establishment_Year'].value_counts().plot(kind='bar')\n",
    "plt.xlabel(\"Outlet_Establishment_Year\",size=15)\n",
    "plt.ylabel(\"Count\",size=15)"
   ]
  },
  {
   "cell_type": "code",
   "execution_count": 22,
   "metadata": {},
   "outputs": [
    {
     "data": {
      "text/plain": [
       "Text(0, 0.5, 'Count')"
      ]
     },
     "execution_count": 22,
     "metadata": {},
     "output_type": "execute_result"
    },
    {
     "data": {
      "image/png": "[encoded data removed]",
      "text/plain": [
       "<Figure size 720x360 with 1 Axes>"
      ]
     },
     "metadata": {
      "needs_background": "light"
     },
     "output_type": "display_data"
    }
   ],
   "source": [
    "plt.figure(figsize=(10,5))\n",
    "combi['Outlet_Type'].value_counts().plot(kind='bar')\n",
    "plt.xlabel(\"Outlet_Type\",size=15)\n",
    "plt.ylabel(\"Count\",size=15)\n",
    "#Supermarket Type1 has is a popular category for people to visit."
   ]
  },
  {
   "cell_type": "markdown",
   "metadata": {},
   "source": [
    "# Bivariate Data Analysis of Continous and Categorical Data"
   ]
  },
  {
   "cell_type": "markdown",
   "metadata": {},
   "source": [
    "### Sactter plot for continous variables against the response variable"
   ]
  },
  {
   "cell_type": "code",
   "execution_count": 23,
   "metadata": {},
   "outputs": [
    {
     "data": {
      "text/plain": [
       "Text(0, 0.5, 'Item_Outlet_Sales')"
      ]
     },
     "execution_count": 23,
     "metadata": {},
     "output_type": "execute_result"
    },
    {
     "data": {
      "image/png": "[encoded data removed]",
      "text/plain": [
       "<Figure size 1080x360 with 1 Axes>"
      ]
     },
     "metadata": {
      "needs_background": "light"
     },
     "output_type": "display_data"
    }
   ],
   "source": [
    "plt.figure(figsize=(15,5))\n",
    "plt.scatter(combi[\"Item_Weight\"],combi[\"Item_Outlet_Sales\"])\n",
    "plt.xlabel(\"Item_Weight\",size=15)\n",
    "plt.ylabel(\"Item_Outlet_Sales\",size=15)\n",
    "#No pattern observed"
   ]
  },
  {
   "cell_type": "code",
   "execution_count": 24,
   "metadata": {},
   "outputs": [
    {
     "data": {
      "text/plain": [
       "Text(0, 0.5, 'Item_Outlet_Sales')"
      ]
     },
     "execution_count": 24,
     "metadata": {},
     "output_type": "execute_result"
    },
    {
     "data": {
      "image/png": "[encoded data removed]",
      "text/plain": [
       "<Figure size 1080x360 with 2 Axes>"
      ]
     },
     "metadata": {
      "needs_background": "light"
     },
     "output_type": "display_data"
    }
   ],
   "source": [
    "fig,ax2=plt.subplots(1,2,figsize=(15,5))\n",
    "#for Item_Visibility\n",
    "ax2[0].scatter(combi[\"Item_Visibility\"],combi[\"Item_Outlet_Sales\"])\n",
    "ax2[0].set_xlabel(\"Item_Visibility\",size=15)\n",
    "ax2[0].set_ylabel(\"Item_Outlet_Sales\",size=15)\n",
    "#for Item_MRP\n",
    "ax2[1].scatter(combi[\"Item_MRP\"],combi[\"Item_Outlet_Sales\"])\n",
    "ax2[1].set_xlabel(\"Item_MRP\",size=15)\n",
    "ax2[1].set_ylabel(\"Item_Outlet_Sales\",size=15)\n",
    "#Item visibilty is right skewed and has string of points at 0 which has to be dealt and Item_MRP is clearly segregated in 4 regions which can be useful."
   ]
  },
  {
   "cell_type": "markdown",
   "metadata": {},
   "source": [
    "### Bar Graph for categorical variables against response variable"
   ]
  },
  {
   "cell_type": "code",
   "execution_count": 25,
   "metadata": {},
   "outputs": [
    {
     "data": {
      "text/plain": [
       "Text(0, 0.5, 'Item_Outlet_Sales')"
      ]
     },
     "execution_count": 25,
     "metadata": {},
     "output_type": "execute_result"
    },
    {
     "data": {
      "image/png": "[encoded data removed]",
      "text/plain": [
       "<Figure size 1080x360 with 2 Axes>"
      ]
     },
     "metadata": {
      "needs_background": "light"
     },
     "output_type": "display_data"
    }
   ],
   "source": [
    "fig,ax3=plt.subplots(1,2,figsize=(15,5))\n",
    "#for Item_Fat_Content\n",
    "ax3[0].bar(combi[\"Item_Fat_Content\"],combi[\"Item_Outlet_Sales\"])\n",
    "ax3[0].set_xlabel(\"Item_Fat_Content\",size=15)\n",
    "ax3[0].set_ylabel(\"Item_Outlet_Sales\",size=15)\n",
    "#for Item_Outlet_Size\n",
    "ax3[1].bar(combi[\"Outlet_Size\"],combi[\"Item_Outlet_Sales\"])\n",
    "ax3[1].set_xlabel(\"Outlet_Size\",size=15)\n",
    "ax3[1].set_ylabel(\"Item_Outlet_Sales\",size=15)\n"
   ]
  },
  {
   "cell_type": "code",
   "execution_count": 26,
   "metadata": {},
   "outputs": [
    {
     "data": {
      "text/plain": [
       "Text(0, 0.5, 'Item_Outlet_Sales')"
      ]
     },
     "execution_count": 26,
     "metadata": {},
     "output_type": "execute_result"
    },
    {
     "data": {
      "image/png": "[encoded data removed]",
      "text/plain": [
       "<Figure size 1080x360 with 1 Axes>"
      ]
     },
     "metadata": {
      "needs_background": "light"
     },
     "output_type": "display_data"
    }
   ],
   "source": [
    "plt.figure(figsize=(15,5))\n",
    "plt.bar(combi[\"Item_Type\"],combi[\"Item_Outlet_Sales\"])\n",
    "plt.xticks(rotation=45)\n",
    "plt.xlabel(\"Item_Type\",size=15)\n",
    "plt.ylabel(\"Item_Outlet_Sales\",size=15)\n",
    "#As observed from univariate analysis and from bivariate analysis too, fruits and vegetables, snack foods plays a crucial role in outlet sales"
   ]
  },
  {
   "cell_type": "code",
   "execution_count": 27,
   "metadata": {},
   "outputs": [
    {
     "data": {
      "text/plain": [
       "Text(0, 0.5, 'Item_Outlet_Sales')"
      ]
     },
     "execution_count": 27,
     "metadata": {},
     "output_type": "execute_result"
    },
    {
     "data": {
      "image/png": "[encoded data removed]",
      "text/plain": [
       "<Figure size 1440x360 with 2 Axes>"
      ]
     },
     "metadata": {
      "needs_background": "light"
     },
     "output_type": "display_data"
    }
   ],
   "source": [
    "fig,ax3=plt.subplots(1,2,figsize=(20,5))\n",
    "#for Outlet_Establishment_Year\n",
    "ax3[0].bar(combi[\"Outlet_Identifier\"],combi[\"Item_Outlet_Sales\"])\n",
    "ax3[0].set_xlabel(\"Outlet_Identifier\",size=15)\n",
    "ax3[0].set_ylabel(\"Item_Outlet_Sales\",size=15)\n",
    "#for Item_Outlet_Size\n",
    "ax3[1].bar(combi[\"Outlet_Type\"],combi[\"Item_Outlet_Sales\"])\n",
    "ax3[1].set_xlabel(\"Outlet_Type\",size=15)\n",
    "ax3[1].set_ylabel(\"Item_Outlet_Sales\",size=15)\n"
   ]
  },
  {
   "cell_type": "code",
   "execution_count": 28,
   "metadata": {},
   "outputs": [
    {
     "data": {
      "text/plain": [
       "Text(0, 0.5, 'Item_Outlet_Sales')"
      ]
     },
     "execution_count": 28,
     "metadata": {},
     "output_type": "execute_result"
    },
    {
     "data": {
      "image/png": "[encoded data removed]",
      "text/plain": [
       "<Figure size 720x360 with 1 Axes>"
      ]
     },
     "metadata": {
      "needs_background": "light"
     },
     "output_type": "display_data"
    }
   ],
   "source": [
    "plt.figure(figsize=(10,5))\n",
    "plt.bar(combi[\"Outlet_Location_Type\"],combi[\"Item_Outlet_Sales\"])\n",
    "plt.xticks(rotation=45)\n",
    "plt.xlabel(\"Outlet_Location_Type\",size=15)\n",
    "plt.ylabel(\"Item_Outlet_Sales\",size=15)\n",
    "#No pattern observed"
   ]
  },
  {
   "cell_type": "markdown",
   "metadata": {},
   "source": [
    "# Missing value treatment\n",
    "### From the above analysis Item_Weight has missing values and Item_Visibility has avalue zero, so lets deal with it"
   ]
  },
  {
   "cell_type": "code",
   "execution_count": 29,
   "metadata": {},
   "outputs": [
    {
     "data": {
      "text/plain": [
       "Item_Identifier                 0\n",
       "Item_Weight                     0\n",
       "Item_Fat_Content                0\n",
       "Item_Visibility                 0\n",
       "Item_Type                       0\n",
       "Item_MRP                        0\n",
       "Outlet_Identifier               0\n",
       "Outlet_Establishment_Year       0\n",
       "Outlet_Size                     0\n",
       "Outlet_Location_Type            0\n",
       "Outlet_Type                     0\n",
       "Item_Outlet_Sales            5681\n",
       "dtype: int64"
      ]
     },
     "execution_count": 29,
     "metadata": {},
     "output_type": "execute_result"
    }
   ],
   "source": [
    "# Replacing the null values in item weight by its median\n",
    "combi[\"Item_Weight\"].fillna(combi[\"Item_Weight\"].mean(),inplace=True)\n",
    "combi.isnull().sum()"
   ]
  },
  {
   "cell_type": "code",
   "execution_count": 30,
   "metadata": {},
   "outputs": [
    {
     "data": {
      "text/plain": [
       "0"
      ]
     },
     "execution_count": 30,
     "metadata": {},
     "output_type": "execute_result"
    }
   ],
   "source": [
    "#Treating null values of Outlet_Size\n",
    "combi[\"Outlet_Size\"].fillna(\"Small\",inplace=True)\n",
    "combi[\"Outlet_Size\"].isnull().sum()"
   ]
  },
  {
   "cell_type": "code",
   "execution_count": 31,
   "metadata": {},
   "outputs": [
    {
     "name": "stdout",
     "output_type": "stream",
     "text": [
      "0.06595278007399345\n",
      "0       False\n",
      "1       False\n",
      "2       False\n",
      "3       False\n",
      "4       False\n",
      "        ...  \n",
      "5676    False\n",
      "5677    False\n",
      "5678    False\n",
      "5679    False\n",
      "5680    False\n",
      "Name: Item_Visibility, Length: 14204, dtype: bool\n"
     ]
    }
   ],
   "source": [
    "#Replacing all the zeros in visibility by its mean value\n",
    "\n",
    "mean_Item_Visibility = combi['Item_Visibility'].mean()\n",
    "print (mean_Item_Visibility)\n",
    "combi['Item_Visibility']=combi.Item_Visibility.mask(combi.Item_Visibility == 0,mean_Item_Visibility)\n",
    "z=(combi[\"Item_Visibility\"]==0)\n",
    "print(z)\n",
    "#Zeros been replaced by its mean"
   ]
  },
  {
   "cell_type": "markdown",
   "metadata": {},
   "source": [
    "# Feature Engineering"
   ]
  },
  {
   "cell_type": "code",
   "execution_count": 32,
   "metadata": {},
   "outputs": [
    {
     "data": {
      "text/plain": [
       "count    14204.000000\n",
       "mean        15.169319\n",
       "std          8.371664\n",
       "min          4.000000\n",
       "25%          9.000000\n",
       "50%         14.000000\n",
       "75%         26.000000\n",
       "max         28.000000\n",
       "Name: Outlet_Years, dtype: float64"
      ]
     },
     "execution_count": 32,
     "metadata": {},
     "output_type": "execute_result"
    }
   ],
   "source": [
    "#F1:Outlet_Years\n",
    "combi[\"Outlet_Years\"]=2013 - combi[\"Outlet_Establishment_Year\"]\n",
    "combi['Outlet_Years'].describe()\n",
    "#Outlets which are 4-28 years old."
   ]
  },
  {
   "cell_type": "code",
   "execution_count": 33,
   "metadata": {},
   "outputs": [
    {
     "data": {
      "text/plain": [
       "Food              10201\n",
       "Non-Consumable     2686\n",
       "Drinks             1317\n",
       "Name: Item_Type_New, dtype: int64"
      ]
     },
     "execution_count": 33,
     "metadata": {},
     "output_type": "execute_result"
    }
   ],
   "source": [
    "#F2:Item_Type_New\n",
    "combi[\"Item_Type_New\"]=combi[\"Item_Identifier\"].apply(lambda x: x[0:2])\n",
    "combi['Item_Type_New'] = combi['Item_Type_New'].map({'FD':'Food','NC':'Non-Consumable','DR':'Drinks'})                                                                                                                      \n",
    "combi['Item_Type_New'].value_counts()"
   ]
  },
  {
   "cell_type": "code",
   "execution_count": 34,
   "metadata": {},
   "outputs": [
    {
     "data": {
      "text/html": [
       "<div>\n",
       "<style scoped>\n",
       "    .dataframe tbody tr th:only-of-type {\n",
       "        vertical-align: middle;\n",
       "    }\n",
       "\n",
       "    .dataframe tbody tr th {\n",
       "        vertical-align: top;\n",
       "    }\n",
       "\n",
       "    .dataframe thead th {\n",
       "        text-align: right;\n",
       "    }\n",
       "</style>\n",
       "<table border=\"1\" class=\"dataframe\">\n",
       "  <thead>\n",
       "    <tr style=\"text-align: right;\">\n",
       "      <th></th>\n",
       "      <th>Item_Outlet_Sales</th>\n",
       "    </tr>\n",
       "    <tr>\n",
       "      <th>Outlet_Location_Type</th>\n",
       "      <th></th>\n",
       "    </tr>\n",
       "  </thead>\n",
       "  <tbody>\n",
       "    <tr>\n",
       "      <th>Tier 1</th>\n",
       "      <td>1876.909159</td>\n",
       "    </tr>\n",
       "    <tr>\n",
       "      <th>Tier 2</th>\n",
       "      <td>2323.990559</td>\n",
       "    </tr>\n",
       "    <tr>\n",
       "      <th>Tier 3</th>\n",
       "      <td>2279.627651</td>\n",
       "    </tr>\n",
       "  </tbody>\n",
       "</table>\n",
       "</div>"
      ],
      "text/plain": [
       "                      Item_Outlet_Sales\n",
       "Outlet_Location_Type                   \n",
       "Tier 1                      1876.909159\n",
       "Tier 2                      2323.990559\n",
       "Tier 3                      2279.627651"
      ]
     },
     "execution_count": 34,
     "metadata": {},
     "output_type": "execute_result"
    }
   ],
   "source": [
    "#New Conclusion\n",
    "combi.pivot_table(values='Item_Outlet_Sales',index='Outlet_Location_Type')\n",
    "#Tier 2 and 3 has almost the same sales."
   ]
  },
  {
   "cell_type": "code",
   "execution_count": 35,
   "metadata": {},
   "outputs": [
    {
     "data": {
      "text/plain": [
       "Low Fat       6499\n",
       "Regular       5019\n",
       "Non-Edible    2686\n",
       "Name: Item_Fat_Content, dtype: int64"
      ]
     },
     "execution_count": 35,
     "metadata": {},
     "output_type": "execute_result"
    }
   ],
   "source": [
    "#changing Non-consumable to non-edible in Item_Fat_Content\n",
    "combi.loc[combi[\"Item_Type_New\"]==\"Non-Consumable\",\"Item_Fat_Content\"]=\"Non-Edible\"\n",
    "combi[\"Item_Fat_Content\"].value_counts()"
   ]
  },
  {
   "cell_type": "code",
   "execution_count": 36,
   "metadata": {},
   "outputs": [
    {
     "data": {
      "text/plain": [
       "non_perishable    9628\n",
       "perishable        4576\n",
       "Name: Item_Type1, dtype: int64"
      ]
     },
     "execution_count": 36,
     "metadata": {},
     "output_type": "execute_result"
    }
   ],
   "source": [
    "#F3:Segregating Item_Tpye to Perishable and non-perishable for simplicity.\n",
    "#Reference:https://rstudio-pubs-static.s3.amazonaws.com/381886_981132516a8e437284327a405ca4d91a.html# \n",
    "#R approach converted to python code \n",
    "#learned a new function of numpy np.select\n",
    "perishable = [\"Breads\", \"Breakfast\", \"Dairy\", \"Fruits and Vegetables\", \"Meat\", \"Seafood\"]\n",
    "non_perishable = [\"Baking Goods\", \"Canned\", \"Frozen Foods\", \"Hard Drinks\", \"Health and Hygiene\", \"Household\", \"Soft Drinks\"]\n",
    "conditions = [(combi['Item_Type'].isin(perishable)),(combi['Item_Type'].isin(non_perishable))]\n",
    "choices = ['perishable', 'non_perishable']\n",
    "combi['Item_Type1'] = np.select(conditions, choices, default='non_perishable')\n",
    "combi['Item_Type1'].value_counts()"
   ]
  },
  {
   "cell_type": "code",
   "execution_count": 37,
   "metadata": {},
   "outputs": [
    {
     "data": {
      "text/html": [
       "<div>\n",
       "<style scoped>\n",
       "    .dataframe tbody tr th:only-of-type {\n",
       "        vertical-align: middle;\n",
       "    }\n",
       "\n",
       "    .dataframe tbody tr th {\n",
       "        vertical-align: top;\n",
       "    }\n",
       "\n",
       "    .dataframe thead th {\n",
       "        text-align: right;\n",
       "    }\n",
       "</style>\n",
       "<table border=\"1\" class=\"dataframe\">\n",
       "  <thead>\n",
       "    <tr style=\"text-align: right;\">\n",
       "      <th></th>\n",
       "      <th>Item_Identifier</th>\n",
       "      <th>Item_Weight</th>\n",
       "      <th>Item_Fat_Content</th>\n",
       "      <th>Item_Visibility</th>\n",
       "      <th>Item_Type</th>\n",
       "      <th>Item_MRP</th>\n",
       "      <th>Outlet_Identifier</th>\n",
       "      <th>Outlet_Establishment_Year</th>\n",
       "      <th>Outlet_Size</th>\n",
       "      <th>Outlet_Location_Type</th>\n",
       "      <th>Outlet_Type</th>\n",
       "      <th>Item_Outlet_Sales</th>\n",
       "      <th>Outlet_Years</th>\n",
       "      <th>Item_Type_New</th>\n",
       "      <th>Item_Type1</th>\n",
       "    </tr>\n",
       "  </thead>\n",
       "  <tbody>\n",
       "    <tr>\n",
       "      <th>0</th>\n",
       "      <td>FDA15</td>\n",
       "      <td>9.30</td>\n",
       "      <td>Low Fat</td>\n",
       "      <td>0.016047</td>\n",
       "      <td>Dairy</td>\n",
       "      <td>249.8092</td>\n",
       "      <td>OUT049</td>\n",
       "      <td>1999</td>\n",
       "      <td>Medium</td>\n",
       "      <td>Tier 1</td>\n",
       "      <td>Supermarket Type1</td>\n",
       "      <td>3735.1380</td>\n",
       "      <td>14</td>\n",
       "      <td>Food</td>\n",
       "      <td>perishable</td>\n",
       "    </tr>\n",
       "    <tr>\n",
       "      <th>1</th>\n",
       "      <td>DRC01</td>\n",
       "      <td>5.92</td>\n",
       "      <td>Regular</td>\n",
       "      <td>0.019278</td>\n",
       "      <td>Soft Drinks</td>\n",
       "      <td>48.2692</td>\n",
       "      <td>OUT018</td>\n",
       "      <td>2009</td>\n",
       "      <td>Medium</td>\n",
       "      <td>Tier 3</td>\n",
       "      <td>Supermarket Type2</td>\n",
       "      <td>443.4228</td>\n",
       "      <td>4</td>\n",
       "      <td>Drinks</td>\n",
       "      <td>non_perishable</td>\n",
       "    </tr>\n",
       "    <tr>\n",
       "      <th>2</th>\n",
       "      <td>FDN15</td>\n",
       "      <td>17.50</td>\n",
       "      <td>Low Fat</td>\n",
       "      <td>0.016760</td>\n",
       "      <td>Meat</td>\n",
       "      <td>141.6180</td>\n",
       "      <td>OUT049</td>\n",
       "      <td>1999</td>\n",
       "      <td>Medium</td>\n",
       "      <td>Tier 1</td>\n",
       "      <td>Supermarket Type1</td>\n",
       "      <td>2097.2700</td>\n",
       "      <td>14</td>\n",
       "      <td>Food</td>\n",
       "      <td>perishable</td>\n",
       "    </tr>\n",
       "    <tr>\n",
       "      <th>3</th>\n",
       "      <td>FDX07</td>\n",
       "      <td>19.20</td>\n",
       "      <td>Regular</td>\n",
       "      <td>0.065953</td>\n",
       "      <td>Fruits and Vegetables</td>\n",
       "      <td>182.0950</td>\n",
       "      <td>OUT010</td>\n",
       "      <td>1998</td>\n",
       "      <td>Small</td>\n",
       "      <td>Tier 3</td>\n",
       "      <td>Grocery Store</td>\n",
       "      <td>732.3800</td>\n",
       "      <td>15</td>\n",
       "      <td>Food</td>\n",
       "      <td>perishable</td>\n",
       "    </tr>\n",
       "    <tr>\n",
       "      <th>4</th>\n",
       "      <td>NCD19</td>\n",
       "      <td>8.93</td>\n",
       "      <td>Non-Edible</td>\n",
       "      <td>0.065953</td>\n",
       "      <td>Household</td>\n",
       "      <td>53.8614</td>\n",
       "      <td>OUT013</td>\n",
       "      <td>1987</td>\n",
       "      <td>High</td>\n",
       "      <td>Tier 3</td>\n",
       "      <td>Supermarket Type1</td>\n",
       "      <td>994.7052</td>\n",
       "      <td>26</td>\n",
       "      <td>Non-Consumable</td>\n",
       "      <td>non_perishable</td>\n",
       "    </tr>\n",
       "  </tbody>\n",
       "</table>\n",
       "</div>"
      ],
      "text/plain": [
       "  Item_Identifier  Item_Weight Item_Fat_Content  Item_Visibility  \\\n",
       "0           FDA15         9.30          Low Fat         0.016047   \n",
       "1           DRC01         5.92          Regular         0.019278   \n",
       "2           FDN15        17.50          Low Fat         0.016760   \n",
       "3           FDX07        19.20          Regular         0.065953   \n",
       "4           NCD19         8.93       Non-Edible         0.065953   \n",
       "\n",
       "               Item_Type  Item_MRP Outlet_Identifier  \\\n",
       "0                  Dairy  249.8092            OUT049   \n",
       "1            Soft Drinks   48.2692            OUT018   \n",
       "2                   Meat  141.6180            OUT049   \n",
       "3  Fruits and Vegetables  182.0950            OUT010   \n",
       "4              Household   53.8614            OUT013   \n",
       "\n",
       "   Outlet_Establishment_Year Outlet_Size Outlet_Location_Type  \\\n",
       "0                       1999      Medium               Tier 1   \n",
       "1                       2009      Medium               Tier 3   \n",
       "2                       1999      Medium               Tier 1   \n",
       "3                       1998       Small               Tier 3   \n",
       "4                       1987        High               Tier 3   \n",
       "\n",
       "         Outlet_Type  Item_Outlet_Sales  Outlet_Years   Item_Type_New  \\\n",
       "0  Supermarket Type1          3735.1380            14            Food   \n",
       "1  Supermarket Type2           443.4228             4          Drinks   \n",
       "2  Supermarket Type1          2097.2700            14            Food   \n",
       "3      Grocery Store           732.3800            15            Food   \n",
       "4  Supermarket Type1           994.7052            26  Non-Consumable   \n",
       "\n",
       "       Item_Type1  \n",
       "0      perishable  \n",
       "1  non_perishable  \n",
       "2      perishable  \n",
       "3      perishable  \n",
       "4  non_perishable  "
      ]
     },
     "execution_count": 37,
     "metadata": {},
     "output_type": "execute_result"
    }
   ],
   "source": [
    "combi.shape\n",
    "combi.head()\n",
    "#Three more columns been added"
   ]
  },
  {
   "cell_type": "markdown",
   "metadata": {},
   "source": [
    "# Label Encoding and One Hot Encoding"
   ]
  },
  {
   "cell_type": "code",
   "execution_count": 38,
   "metadata": {},
   "outputs": [
    {
     "data": {
      "text/plain": [
       "Item_Identifier               object\n",
       "Item_Weight                  float64\n",
       "Item_Fat_Content               int32\n",
       "Item_Visibility              float64\n",
       "Item_Type                     object\n",
       "Item_MRP                     float64\n",
       "Outlet_Identifier             object\n",
       "Outlet_Establishment_Year      int64\n",
       "Outlet_Size                    int32\n",
       "Outlet_Location_Type           int32\n",
       "Outlet_Type                    int32\n",
       "Item_Outlet_Sales            float64\n",
       "Outlet_Years                   int64\n",
       "Item_Type_New                  int32\n",
       "Item_Type1                     int32\n",
       "Outlet                         int32\n",
       "dtype: object"
      ]
     },
     "execution_count": 38,
     "metadata": {},
     "output_type": "execute_result"
    }
   ],
   "source": [
    "#Label Encoding\n",
    "from sklearn.preprocessing import LabelEncoder\n",
    "#New variable for Outlet_Identifier\n",
    "le=LabelEncoder()\n",
    "combi['Outlet'] = le.fit_transform(combi['Outlet_Identifier'])\n",
    "var_mod=['Item_Fat_Content',\"Outlet_Size\",'Outlet_Location_Type','Outlet_Type',\"Item_Type_New\",\"Outlet\",\"Item_Type1\"]\n",
    "\n",
    "for i in var_mod:\n",
    "    combi[i]=le.fit_transform(combi[i].astype(str))\n",
    "    \n",
    "combi.dtypes    \n"
   ]
  },
  {
   "cell_type": "code",
   "execution_count": 39,
   "metadata": {},
   "outputs": [],
   "source": [
    "#One Hot Coding for the variable which has more than two categorical data\n",
    "combi = pd.get_dummies(combi, columns=['Item_Fat_Content','Outlet_Location_Type','Outlet_Size','Outlet_Type',\n",
    "                              'Item_Type_New','Outlet'])"
   ]
  },
  {
   "cell_type": "code",
   "execution_count": 41,
   "metadata": {},
   "outputs": [
    {
     "data": {
      "text/plain": [
       "(14204, 34)"
      ]
     },
     "execution_count": 41,
     "metadata": {},
     "output_type": "execute_result"
    }
   ],
   "source": [
    "#Removing columns which has given more precise informative columns\n",
    "#Learned something new\n",
    "combi.drop([\"Item_Type\",\"Outlet_Establishment_Year\"],axis=1,inplace=True)\n",
    "combi.shape"
   ]
  },
  {
   "cell_type": "code",
   "execution_count": 42,
   "metadata": {},
   "outputs": [
    {
     "data": {
      "text/plain": [
       "(14204, 34)"
      ]
     },
     "execution_count": 42,
     "metadata": {},
     "output_type": "execute_result"
    }
   ],
   "source": [
    "combi.shape"
   ]
  },
  {
   "cell_type": "code",
   "execution_count": 43,
   "metadata": {},
   "outputs": [
    {
     "data": {
      "text/html": [
       "<div>\n",
       "<style scoped>\n",
       "    .dataframe tbody tr th:only-of-type {\n",
       "        vertical-align: middle;\n",
       "    }\n",
       "\n",
       "    .dataframe tbody tr th {\n",
       "        vertical-align: top;\n",
       "    }\n",
       "\n",
       "    .dataframe thead th {\n",
       "        text-align: right;\n",
       "    }\n",
       "</style>\n",
       "<table border=\"1\" class=\"dataframe\">\n",
       "  <thead>\n",
       "    <tr style=\"text-align: right;\">\n",
       "      <th></th>\n",
       "      <th>Item_Identifier</th>\n",
       "      <th>Item_Weight</th>\n",
       "      <th>Item_Visibility</th>\n",
       "      <th>Item_MRP</th>\n",
       "      <th>Outlet_Identifier</th>\n",
       "      <th>Item_Outlet_Sales</th>\n",
       "      <th>Outlet_Years</th>\n",
       "      <th>Item_Type1</th>\n",
       "      <th>Item_Fat_Content_0</th>\n",
       "      <th>Item_Fat_Content_1</th>\n",
       "      <th>...</th>\n",
       "      <th>Outlet_0</th>\n",
       "      <th>Outlet_1</th>\n",
       "      <th>Outlet_2</th>\n",
       "      <th>Outlet_3</th>\n",
       "      <th>Outlet_4</th>\n",
       "      <th>Outlet_5</th>\n",
       "      <th>Outlet_6</th>\n",
       "      <th>Outlet_7</th>\n",
       "      <th>Outlet_8</th>\n",
       "      <th>Outlet_9</th>\n",
       "    </tr>\n",
       "  </thead>\n",
       "  <tbody>\n",
       "    <tr>\n",
       "      <th>0</th>\n",
       "      <td>FDA15</td>\n",
       "      <td>9.30</td>\n",
       "      <td>0.016047</td>\n",
       "      <td>249.8092</td>\n",
       "      <td>OUT049</td>\n",
       "      <td>3735.1380</td>\n",
       "      <td>14</td>\n",
       "      <td>1</td>\n",
       "      <td>1</td>\n",
       "      <td>0</td>\n",
       "      <td>...</td>\n",
       "      <td>0</td>\n",
       "      <td>0</td>\n",
       "      <td>0</td>\n",
       "      <td>0</td>\n",
       "      <td>0</td>\n",
       "      <td>0</td>\n",
       "      <td>0</td>\n",
       "      <td>0</td>\n",
       "      <td>0</td>\n",
       "      <td>1</td>\n",
       "    </tr>\n",
       "    <tr>\n",
       "      <th>1</th>\n",
       "      <td>DRC01</td>\n",
       "      <td>5.92</td>\n",
       "      <td>0.019278</td>\n",
       "      <td>48.2692</td>\n",
       "      <td>OUT018</td>\n",
       "      <td>443.4228</td>\n",
       "      <td>4</td>\n",
       "      <td>0</td>\n",
       "      <td>0</td>\n",
       "      <td>0</td>\n",
       "      <td>...</td>\n",
       "      <td>0</td>\n",
       "      <td>0</td>\n",
       "      <td>0</td>\n",
       "      <td>1</td>\n",
       "      <td>0</td>\n",
       "      <td>0</td>\n",
       "      <td>0</td>\n",
       "      <td>0</td>\n",
       "      <td>0</td>\n",
       "      <td>0</td>\n",
       "    </tr>\n",
       "    <tr>\n",
       "      <th>2</th>\n",
       "      <td>FDN15</td>\n",
       "      <td>17.50</td>\n",
       "      <td>0.016760</td>\n",
       "      <td>141.6180</td>\n",
       "      <td>OUT049</td>\n",
       "      <td>2097.2700</td>\n",
       "      <td>14</td>\n",
       "      <td>1</td>\n",
       "      <td>1</td>\n",
       "      <td>0</td>\n",
       "      <td>...</td>\n",
       "      <td>0</td>\n",
       "      <td>0</td>\n",
       "      <td>0</td>\n",
       "      <td>0</td>\n",
       "      <td>0</td>\n",
       "      <td>0</td>\n",
       "      <td>0</td>\n",
       "      <td>0</td>\n",
       "      <td>0</td>\n",
       "      <td>1</td>\n",
       "    </tr>\n",
       "    <tr>\n",
       "      <th>3</th>\n",
       "      <td>FDX07</td>\n",
       "      <td>19.20</td>\n",
       "      <td>0.065953</td>\n",
       "      <td>182.0950</td>\n",
       "      <td>OUT010</td>\n",
       "      <td>732.3800</td>\n",
       "      <td>15</td>\n",
       "      <td>1</td>\n",
       "      <td>0</td>\n",
       "      <td>0</td>\n",
       "      <td>...</td>\n",
       "      <td>1</td>\n",
       "      <td>0</td>\n",
       "      <td>0</td>\n",
       "      <td>0</td>\n",
       "      <td>0</td>\n",
       "      <td>0</td>\n",
       "      <td>0</td>\n",
       "      <td>0</td>\n",
       "      <td>0</td>\n",
       "      <td>0</td>\n",
       "    </tr>\n",
       "    <tr>\n",
       "      <th>4</th>\n",
       "      <td>NCD19</td>\n",
       "      <td>8.93</td>\n",
       "      <td>0.065953</td>\n",
       "      <td>53.8614</td>\n",
       "      <td>OUT013</td>\n",
       "      <td>994.7052</td>\n",
       "      <td>26</td>\n",
       "      <td>0</td>\n",
       "      <td>0</td>\n",
       "      <td>1</td>\n",
       "      <td>...</td>\n",
       "      <td>0</td>\n",
       "      <td>1</td>\n",
       "      <td>0</td>\n",
       "      <td>0</td>\n",
       "      <td>0</td>\n",
       "      <td>0</td>\n",
       "      <td>0</td>\n",
       "      <td>0</td>\n",
       "      <td>0</td>\n",
       "      <td>0</td>\n",
       "    </tr>\n",
       "  </tbody>\n",
       "</table>\n",
       "<p>5 rows × 34 columns</p>\n",
       "</div>"
      ],
      "text/plain": [
       "  Item_Identifier  Item_Weight  Item_Visibility  Item_MRP Outlet_Identifier  \\\n",
       "0           FDA15         9.30         0.016047  249.8092            OUT049   \n",
       "1           DRC01         5.92         0.019278   48.2692            OUT018   \n",
       "2           FDN15        17.50         0.016760  141.6180            OUT049   \n",
       "3           FDX07        19.20         0.065953  182.0950            OUT010   \n",
       "4           NCD19         8.93         0.065953   53.8614            OUT013   \n",
       "\n",
       "   Item_Outlet_Sales  Outlet_Years  Item_Type1  Item_Fat_Content_0  \\\n",
       "0          3735.1380            14           1                   1   \n",
       "1           443.4228             4           0                   0   \n",
       "2          2097.2700            14           1                   1   \n",
       "3           732.3800            15           1                   0   \n",
       "4           994.7052            26           0                   0   \n",
       "\n",
       "   Item_Fat_Content_1  ...  Outlet_0  Outlet_1  Outlet_2  Outlet_3  Outlet_4  \\\n",
       "0                   0  ...         0         0         0         0         0   \n",
       "1                   0  ...         0         0         0         1         0   \n",
       "2                   0  ...         0         0         0         0         0   \n",
       "3                   0  ...         1         0         0         0         0   \n",
       "4                   1  ...         0         1         0         0         0   \n",
       "\n",
       "   Outlet_5  Outlet_6  Outlet_7  Outlet_8  Outlet_9  \n",
       "0         0         0         0         0         1  \n",
       "1         0         0         0         0         0  \n",
       "2         0         0         0         0         1  \n",
       "3         0         0         0         0         0  \n",
       "4         0         0         0         0         0  \n",
       "\n",
       "[5 rows x 34 columns]"
      ]
     },
     "execution_count": 43,
     "metadata": {},
     "output_type": "execute_result"
    }
   ],
   "source": [
    "combi.head()\n",
    "#Now we all the values in numbers, we should proceed towards modeling"
   ]
  },
  {
   "cell_type": "markdown",
   "metadata": {},
   "source": [
    "# Modelling"
   ]
  },
  {
   "cell_type": "markdown",
   "metadata": {},
   "source": [
    "### Lets deal with the skewness of Item_Visibility"
   ]
  },
  {
   "cell_type": "code",
   "execution_count": 44,
   "metadata": {},
   "outputs": [
    {
     "data": {
      "text/plain": [
       "1.320682723150534"
      ]
     },
     "execution_count": 44,
     "metadata": {},
     "output_type": "execute_result"
    }
   ],
   "source": [
    "combi[\"Item_Visibility\"].skew()"
   ]
  },
  {
   "cell_type": "code",
   "execution_count": 46,
   "metadata": {},
   "outputs": [
    {
     "name": "stdout",
     "output_type": "stream",
     "text": [
      "Before apllying square root: 1.320682723150534\n",
      "After applying square root: -0.024345084811864457\n"
     ]
    }
   ],
   "source": [
    "print(\"Before apllying square root:\",combi[\"Item_Visibility\"].skew())\n",
    "combi[\"Item_Visibility\"]=np.sqrt(np.sqrt(combi[\"Item_Visibility\"]))\n",
    "print(\"After applying square root:\",combi[\"Item_Visibility\"].skew())\n",
    "\n",
    "#As you can see the Item_Visibility skewness is being nearly normalised. "
   ]
  },
  {
   "cell_type": "code",
   "execution_count": 47,
   "metadata": {},
   "outputs": [
    {
     "name": "stdout",
     "output_type": "stream",
     "text": [
      "-0.003666107292348487\n"
     ]
    }
   ],
   "source": [
    "x=combi['Item_Visibility'].corr(combi[\"Item_MRP\"])\n",
    "print(x)"
   ]
  },
  {
   "cell_type": "code",
   "execution_count": 49,
   "metadata": {},
   "outputs": [
    {
     "data": {
      "text/html": [
       "<div>\n",
       "<style scoped>\n",
       "    .dataframe tbody tr th:only-of-type {\n",
       "        vertical-align: middle;\n",
       "    }\n",
       "\n",
       "    .dataframe tbody tr th {\n",
       "        vertical-align: top;\n",
       "    }\n",
       "\n",
       "    .dataframe thead th {\n",
       "        text-align: right;\n",
       "    }\n",
       "</style>\n",
       "<table border=\"1\" class=\"dataframe\">\n",
       "  <thead>\n",
       "    <tr style=\"text-align: right;\">\n",
       "      <th></th>\n",
       "      <th>Item_Weight</th>\n",
       "      <th>Item_Visibility</th>\n",
       "      <th>Item_MRP</th>\n",
       "      <th>Item_Outlet_Sales</th>\n",
       "      <th>Outlet_Years</th>\n",
       "      <th>Item_Type1</th>\n",
       "      <th>Item_Fat_Content_0</th>\n",
       "      <th>Item_Fat_Content_1</th>\n",
       "      <th>Item_Fat_Content_2</th>\n",
       "      <th>Outlet_Location_Type_0</th>\n",
       "      <th>...</th>\n",
       "      <th>Outlet_0</th>\n",
       "      <th>Outlet_1</th>\n",
       "      <th>Outlet_2</th>\n",
       "      <th>Outlet_3</th>\n",
       "      <th>Outlet_4</th>\n",
       "      <th>Outlet_5</th>\n",
       "      <th>Outlet_6</th>\n",
       "      <th>Outlet_7</th>\n",
       "      <th>Outlet_8</th>\n",
       "      <th>Outlet_9</th>\n",
       "    </tr>\n",
       "  </thead>\n",
       "  <tbody>\n",
       "    <tr>\n",
       "      <th>Item_Weight</th>\n",
       "      <td>1.000000e+00</td>\n",
       "      <td>-0.014883</td>\n",
       "      <td>0.033002</td>\n",
       "      <td>0.011083</td>\n",
       "      <td>-0.000462</td>\n",
       "      <td>0.020140</td>\n",
       "      <td>-0.012021</td>\n",
       "      <td>0.052037</td>\n",
       "      <td>-0.030101</td>\n",
       "      <td>0.001757</td>\n",
       "      <td>...</td>\n",
       "      <td>-0.004362</td>\n",
       "      <td>-0.000390</td>\n",
       "      <td>-0.000888</td>\n",
       "      <td>0.000890</td>\n",
       "      <td>3.549387e-14</td>\n",
       "      <td>4.870556e-14</td>\n",
       "      <td>0.000960</td>\n",
       "      <td>0.000350</td>\n",
       "      <td>0.001691</td>\n",
       "      <td>0.000839</td>\n",
       "    </tr>\n",
       "    <tr>\n",
       "      <th>Item_Visibility</th>\n",
       "      <td>-1.488268e-02</td>\n",
       "      <td>1.000000</td>\n",
       "      <td>-0.003666</td>\n",
       "      <td>-0.108199</td>\n",
       "      <td>0.071423</td>\n",
       "      <td>0.041820</td>\n",
       "      <td>0.020123</td>\n",
       "      <td>-0.088308</td>\n",
       "      <td>0.051371</td>\n",
       "      <td>0.045024</td>\n",
       "      <td>...</td>\n",
       "      <td>0.160991</td>\n",
       "      <td>-0.032823</td>\n",
       "      <td>-0.031126</td>\n",
       "      <td>-0.034068</td>\n",
       "      <td>1.749870e-01</td>\n",
       "      <td>-3.375612e-02</td>\n",
       "      <td>-0.030757</td>\n",
       "      <td>-0.029726</td>\n",
       "      <td>-0.033817</td>\n",
       "      <td>-0.036629</td>\n",
       "    </tr>\n",
       "    <tr>\n",
       "      <th>Item_MRP</th>\n",
       "      <td>3.300183e-02</td>\n",
       "      <td>-0.003666</td>\n",
       "      <td>1.000000</td>\n",
       "      <td>0.567574</td>\n",
       "      <td>-0.000141</td>\n",
       "      <td>0.031091</td>\n",
       "      <td>-0.003337</td>\n",
       "      <td>0.009151</td>\n",
       "      <td>-0.004019</td>\n",
       "      <td>-0.000658</td>\n",
       "      <td>...</td>\n",
       "      <td>0.000658</td>\n",
       "      <td>0.000697</td>\n",
       "      <td>-0.000034</td>\n",
       "      <td>-0.000023</td>\n",
       "      <td>-1.045579e-03</td>\n",
       "      <td>4.167967e-05</td>\n",
       "      <td>0.000576</td>\n",
       "      <td>-0.000832</td>\n",
       "      <td>-0.001032</td>\n",
       "      <td>0.000892</td>\n",
       "    </tr>\n",
       "    <tr>\n",
       "      <th>Item_Outlet_Sales</th>\n",
       "      <td>1.108344e-02</td>\n",
       "      <td>-0.108199</td>\n",
       "      <td>0.567574</td>\n",
       "      <td>1.000000</td>\n",
       "      <td>0.049135</td>\n",
       "      <td>0.024315</td>\n",
       "      <td>-0.009438</td>\n",
       "      <td>-0.010861</td>\n",
       "      <td>0.018719</td>\n",
       "      <td>-0.111287</td>\n",
       "      <td>...</td>\n",
       "      <td>-0.284883</td>\n",
       "      <td>0.024170</td>\n",
       "      <td>0.032610</td>\n",
       "      <td>-0.038059</td>\n",
       "      <td>-2.772498e-01</td>\n",
       "      <td>3.111920e-01</td>\n",
       "      <td>0.052823</td>\n",
       "      <td>0.002274</td>\n",
       "      <td>0.019803</td>\n",
       "      <td>0.034264</td>\n",
       "    </tr>\n",
       "    <tr>\n",
       "      <th>Outlet_Years</th>\n",
       "      <td>-4.620424e-04</td>\n",
       "      <td>0.071423</td>\n",
       "      <td>-0.000141</td>\n",
       "      <td>0.049135</td>\n",
       "      <td>1.000000</td>\n",
       "      <td>0.002811</td>\n",
       "      <td>-0.000547</td>\n",
       "      <td>0.000864</td>\n",
       "      <td>-0.000137</td>\n",
       "      <td>0.201609</td>\n",
       "      <td>...</td>\n",
       "      <td>-0.005338</td>\n",
       "      <td>0.453297</td>\n",
       "      <td>-0.382375</td>\n",
       "      <td>-0.466286</td>\n",
       "      <td>3.938921e-01</td>\n",
       "      <td>5.381668e-01</td>\n",
       "      <td>-0.257925</td>\n",
       "      <td>-0.174183</td>\n",
       "      <td>0.034729</td>\n",
       "      <td>-0.048886</td>\n",
       "    </tr>\n",
       "    <tr>\n",
       "      <th>Item_Type1</th>\n",
       "      <td>2.013985e-02</td>\n",
       "      <td>0.041820</td>\n",
       "      <td>0.031091</td>\n",
       "      <td>0.024315</td>\n",
       "      <td>0.002811</td>\n",
       "      <td>1.000000</td>\n",
       "      <td>0.092616</td>\n",
       "      <td>-0.332920</td>\n",
       "      <td>0.176203</td>\n",
       "      <td>0.001608</td>\n",
       "      <td>...</td>\n",
       "      <td>0.004884</td>\n",
       "      <td>-0.000637</td>\n",
       "      <td>-0.001984</td>\n",
       "      <td>-0.000998</td>\n",
       "      <td>5.934942e-03</td>\n",
       "      <td>-1.085274e-03</td>\n",
       "      <td>-0.000653</td>\n",
       "      <td>-0.000826</td>\n",
       "      <td>-0.000653</td>\n",
       "      <td>-0.001620</td>\n",
       "    </tr>\n",
       "    <tr>\n",
       "      <th>Item_Fat_Content_0</th>\n",
       "      <td>-1.202120e-02</td>\n",
       "      <td>0.020123</td>\n",
       "      <td>-0.003337</td>\n",
       "      <td>-0.009438</td>\n",
       "      <td>-0.000547</td>\n",
       "      <td>0.092616</td>\n",
       "      <td>1.000000</td>\n",
       "      <td>-0.443508</td>\n",
       "      <td>-0.678900</td>\n",
       "      <td>0.000303</td>\n",
       "      <td>...</td>\n",
       "      <td>-0.002996</td>\n",
       "      <td>0.000647</td>\n",
       "      <td>0.000910</td>\n",
       "      <td>0.000741</td>\n",
       "      <td>-3.760499e-04</td>\n",
       "      <td>-1.428754e-04</td>\n",
       "      <td>0.000363</td>\n",
       "      <td>-0.000582</td>\n",
       "      <td>0.000363</td>\n",
       "      <td>0.000363</td>\n",
       "    </tr>\n",
       "    <tr>\n",
       "      <th>Item_Fat_Content_1</th>\n",
       "      <td>5.203730e-02</td>\n",
       "      <td>-0.088308</td>\n",
       "      <td>0.009151</td>\n",
       "      <td>-0.010861</td>\n",
       "      <td>0.000864</td>\n",
       "      <td>-0.332920</td>\n",
       "      <td>-0.443508</td>\n",
       "      <td>1.000000</td>\n",
       "      <td>-0.356971</td>\n",
       "      <td>0.000951</td>\n",
       "      <td>...</td>\n",
       "      <td>0.001516</td>\n",
       "      <td>-0.000965</td>\n",
       "      <td>-0.000453</td>\n",
       "      <td>-0.001357</td>\n",
       "      <td>1.186191e-03</td>\n",
       "      <td>1.095731e-04</td>\n",
       "      <td>-0.000639</td>\n",
       "      <td>0.000733</td>\n",
       "      <td>0.000515</td>\n",
       "      <td>-0.000062</td>\n",
       "    </tr>\n",
       "    <tr>\n",
       "      <th>Item_Fat_Content_2</th>\n",
       "      <td>-3.010050e-02</td>\n",
       "      <td>0.051371</td>\n",
       "      <td>-0.004019</td>\n",
       "      <td>0.018719</td>\n",
       "      <td>-0.000137</td>\n",
       "      <td>0.176203</td>\n",
       "      <td>-0.678900</td>\n",
       "      <td>-0.356971</td>\n",
       "      <td>1.000000</td>\n",
       "      <td>-0.001095</td>\n",
       "      <td>...</td>\n",
       "      <td>0.001880</td>\n",
       "      <td>0.000116</td>\n",
       "      <td>-0.000578</td>\n",
       "      <td>0.000340</td>\n",
       "      <td>-5.798065e-04</td>\n",
       "      <td>5.914536e-05</td>\n",
       "      <td>0.000144</td>\n",
       "      <td>0.000006</td>\n",
       "      <td>-0.000800</td>\n",
       "      <td>-0.000328</td>\n",
       "    </tr>\n",
       "    <tr>\n",
       "      <th>Outlet_Location_Type_0</th>\n",
       "      <td>1.756513e-03</td>\n",
       "      <td>0.045024</td>\n",
       "      <td>-0.000658</td>\n",
       "      <td>-0.111287</td>\n",
       "      <td>0.201609</td>\n",
       "      <td>0.001608</td>\n",
       "      <td>0.000303</td>\n",
       "      <td>0.000951</td>\n",
       "      <td>-0.001095</td>\n",
       "      <td>1.000000</td>\n",
       "      <td>...</td>\n",
       "      <td>-0.164672</td>\n",
       "      <td>-0.218602</td>\n",
       "      <td>-0.217811</td>\n",
       "      <td>-0.218049</td>\n",
       "      <td>4.119011e-01</td>\n",
       "      <td>-2.190760e-01</td>\n",
       "      <td>-0.218365</td>\n",
       "      <td>-0.218207</td>\n",
       "      <td>0.560946</td>\n",
       "      <td>0.560946</td>\n",
       "    </tr>\n",
       "    <tr>\n",
       "      <th>Outlet_Location_Type_1</th>\n",
       "      <td>2.816123e-04</td>\n",
       "      <td>-0.060847</td>\n",
       "      <td>-0.000192</td>\n",
       "      <td>0.058261</td>\n",
       "      <td>-0.540880</td>\n",
       "      <td>-0.002299</td>\n",
       "      <td>0.000459</td>\n",
       "      <td>-0.000238</td>\n",
       "      <td>-0.000283</td>\n",
       "      <td>-0.434650</td>\n",
       "      <td>...</td>\n",
       "      <td>-0.183864</td>\n",
       "      <td>-0.244080</td>\n",
       "      <td>0.501118</td>\n",
       "      <td>-0.243462</td>\n",
       "      <td>-1.790329e-01</td>\n",
       "      <td>-2.446090e-01</td>\n",
       "      <td>0.502393</td>\n",
       "      <td>0.502029</td>\n",
       "      <td>-0.243815</td>\n",
       "      <td>-0.243815</td>\n",
       "    </tr>\n",
       "    <tr>\n",
       "      <th>Outlet_Location_Type_2</th>\n",
       "      <td>-1.885489e-03</td>\n",
       "      <td>0.017031</td>\n",
       "      <td>0.000790</td>\n",
       "      <td>0.046376</td>\n",
       "      <td>0.334013</td>\n",
       "      <td>0.000730</td>\n",
       "      <td>-0.000719</td>\n",
       "      <td>-0.000646</td>\n",
       "      <td>0.001279</td>\n",
       "      <td>-0.502095</td>\n",
       "      <td>...</td>\n",
       "      <td>0.327969</td>\n",
       "      <td>0.435380</td>\n",
       "      <td>-0.280934</td>\n",
       "      <td>0.434277</td>\n",
       "      <td>-2.068136e-01</td>\n",
       "      <td>4.363235e-01</td>\n",
       "      <td>-0.281648</td>\n",
       "      <td>-0.281444</td>\n",
       "      <td>-0.281648</td>\n",
       "      <td>-0.281648</td>\n",
       "    </tr>\n",
       "    <tr>\n",
       "      <th>Outlet_Size_0</th>\n",
       "      <td>-3.901750e-04</td>\n",
       "      <td>-0.032823</td>\n",
       "      <td>0.000697</td>\n",
       "      <td>0.024170</td>\n",
       "      <td>0.453297</td>\n",
       "      <td>-0.000637</td>\n",
       "      <td>0.000647</td>\n",
       "      <td>-0.000965</td>\n",
       "      <td>0.000116</td>\n",
       "      <td>-0.218602</td>\n",
       "      <td>...</td>\n",
       "      <td>-0.092472</td>\n",
       "      <td>1.000000</td>\n",
       "      <td>-0.122313</td>\n",
       "      <td>-0.122446</td>\n",
       "      <td>-9.004245e-02</td>\n",
       "      <td>-1.230232e-01</td>\n",
       "      <td>-0.122624</td>\n",
       "      <td>-0.122535</td>\n",
       "      <td>-0.122624</td>\n",
       "      <td>-0.122624</td>\n",
       "    </tr>\n",
       "    <tr>\n",
       "      <th>Outlet_Size_1</th>\n",
       "      <td>1.147868e-03</td>\n",
       "      <td>-0.069416</td>\n",
       "      <td>0.000605</td>\n",
       "      <td>0.204701</td>\n",
       "      <td>0.016534</td>\n",
       "      <td>-0.002461</td>\n",
       "      <td>0.000638</td>\n",
       "      <td>-0.000869</td>\n",
       "      <td>0.000047</td>\n",
       "      <td>0.082044</td>\n",
       "      <td>...</td>\n",
       "      <td>-0.184276</td>\n",
       "      <td>-0.244627</td>\n",
       "      <td>-0.243742</td>\n",
       "      <td>0.500543</td>\n",
       "      <td>-1.794341e-01</td>\n",
       "      <td>5.029013e-01</td>\n",
       "      <td>-0.244362</td>\n",
       "      <td>-0.244185</td>\n",
       "      <td>-0.244362</td>\n",
       "      <td>0.501269</td>\n",
       "    </tr>\n",
       "    <tr>\n",
       "      <th>Outlet_Size_2</th>\n",
       "      <td>-8.407531e-04</td>\n",
       "      <td>0.086337</td>\n",
       "      <td>-0.001011</td>\n",
       "      <td>-0.208912</td>\n",
       "      <td>-0.300826</td>\n",
       "      <td>0.002729</td>\n",
       "      <td>-0.001011</td>\n",
       "      <td>0.001429</td>\n",
       "      <td>-0.000118</td>\n",
       "      <td>0.059890</td>\n",
       "      <td>...</td>\n",
       "      <td>0.232556</td>\n",
       "      <td>-0.397634</td>\n",
       "      <td>0.307601</td>\n",
       "      <td>-0.396627</td>\n",
       "      <td>2.264454e-01</td>\n",
       "      <td>-3.984962e-01</td>\n",
       "      <td>0.308384</td>\n",
       "      <td>0.308160</td>\n",
       "      <td>0.308384</td>\n",
       "      <td>-0.397203</td>\n",
       "    </tr>\n",
       "    <tr>\n",
       "      <th>Outlet_Type_0</th>\n",
       "      <td>-3.231838e-03</td>\n",
       "      <td>0.245926</td>\n",
       "      <td>-0.000269</td>\n",
       "      <td>-0.411727</td>\n",
       "      <td>0.281150</td>\n",
       "      <td>0.007914</td>\n",
       "      <td>-0.002492</td>\n",
       "      <td>0.001982</td>\n",
       "      <td>0.000973</td>\n",
       "      <td>0.176145</td>\n",
       "      <td>...</td>\n",
       "      <td>0.691740</td>\n",
       "      <td>-0.133681</td>\n",
       "      <td>-0.133197</td>\n",
       "      <td>-0.133342</td>\n",
       "      <td>6.735638e-01</td>\n",
       "      <td>-1.339704e-01</td>\n",
       "      <td>-0.133536</td>\n",
       "      <td>-0.133439</td>\n",
       "      <td>-0.133536</td>\n",
       "      <td>-0.133536</td>\n",
       "    </tr>\n",
       "    <tr>\n",
       "      <th>Outlet_Type_1</th>\n",
       "      <td>1.680383e-03</td>\n",
       "      <td>-0.127728</td>\n",
       "      <td>0.000176</td>\n",
       "      <td>0.108765</td>\n",
       "      <td>-0.245260</td>\n",
       "      <td>-0.004175</td>\n",
       "      <td>0.001354</td>\n",
       "      <td>-0.000571</td>\n",
       "      <td>-0.000943</td>\n",
       "      <td>0.163425</td>\n",
       "      <td>...</td>\n",
       "      <td>-0.363119</td>\n",
       "      <td>0.254661</td>\n",
       "      <td>0.253740</td>\n",
       "      <td>-0.480820</td>\n",
       "      <td>-3.535775e-01</td>\n",
       "      <td>-4.830858e-01</td>\n",
       "      <td>0.254385</td>\n",
       "      <td>0.254201</td>\n",
       "      <td>0.254385</td>\n",
       "      <td>0.254385</td>\n",
       "    </tr>\n",
       "    <tr>\n",
       "      <th>Outlet_Type_2</th>\n",
       "      <td>8.901252e-04</td>\n",
       "      <td>-0.034068</td>\n",
       "      <td>-0.000023</td>\n",
       "      <td>-0.038059</td>\n",
       "      <td>-0.466286</td>\n",
       "      <td>-0.000998</td>\n",
       "      <td>0.000741</td>\n",
       "      <td>-0.001357</td>\n",
       "      <td>0.000340</td>\n",
       "      <td>-0.218049</td>\n",
       "      <td>...</td>\n",
       "      <td>-0.092238</td>\n",
       "      <td>-0.122446</td>\n",
       "      <td>-0.122003</td>\n",
       "      <td>1.000000</td>\n",
       "      <td>-8.981445e-02</td>\n",
       "      <td>-1.227117e-01</td>\n",
       "      <td>-0.122313</td>\n",
       "      <td>-0.122225</td>\n",
       "      <td>-0.122313</td>\n",
       "      <td>-0.122313</td>\n",
       "    </tr>\n",
       "    <tr>\n",
       "      <th>Outlet_Type_3</th>\n",
       "      <td>4.870556e-14</td>\n",
       "      <td>-0.033756</td>\n",
       "      <td>0.000042</td>\n",
       "      <td>0.311192</td>\n",
       "      <td>0.538167</td>\n",
       "      <td>-0.001085</td>\n",
       "      <td>-0.000143</td>\n",
       "      <td>0.000110</td>\n",
       "      <td>0.000059</td>\n",
       "      <td>-0.219076</td>\n",
       "      <td>...</td>\n",
       "      <td>-0.092673</td>\n",
       "      <td>-0.123023</td>\n",
       "      <td>-0.122578</td>\n",
       "      <td>-0.122712</td>\n",
       "      <td>-9.023763e-02</td>\n",
       "      <td>1.000000e+00</td>\n",
       "      <td>-0.122890</td>\n",
       "      <td>-0.122801</td>\n",
       "      <td>-0.122890</td>\n",
       "      <td>-0.122890</td>\n",
       "    </tr>\n",
       "    <tr>\n",
       "      <th>Item_Type_New_0</th>\n",
       "      <td>-4.252652e-02</td>\n",
       "      <td>0.002151</td>\n",
       "      <td>-0.042036</td>\n",
       "      <td>-0.034672</td>\n",
       "      <td>-0.002841</td>\n",
       "      <td>-0.101440</td>\n",
       "      <td>0.294973</td>\n",
       "      <td>-0.154377</td>\n",
       "      <td>-0.180962</td>\n",
       "      <td>-0.003798</td>\n",
       "      <td>...</td>\n",
       "      <td>0.002197</td>\n",
       "      <td>0.000782</td>\n",
       "      <td>0.001507</td>\n",
       "      <td>0.000510</td>\n",
       "      <td>-6.639367e-03</td>\n",
       "      <td>3.486303e-04</td>\n",
       "      <td>0.000999</td>\n",
       "      <td>-0.000414</td>\n",
       "      <td>0.000221</td>\n",
       "      <td>-0.000558</td>\n",
       "    </tr>\n",
       "    <tr>\n",
       "      <th>Item_Type_New_1</th>\n",
       "      <td>-1.787750e-02</td>\n",
       "      <td>0.075478</td>\n",
       "      <td>0.019135</td>\n",
       "      <td>0.031905</td>\n",
       "      <td>0.001080</td>\n",
       "      <td>0.355177</td>\n",
       "      <td>0.195869</td>\n",
       "      <td>-0.770891</td>\n",
       "      <td>0.427379</td>\n",
       "      <td>0.001621</td>\n",
       "      <td>...</td>\n",
       "      <td>-0.002736</td>\n",
       "      <td>0.000336</td>\n",
       "      <td>-0.000578</td>\n",
       "      <td>0.000853</td>\n",
       "      <td>3.247890e-03</td>\n",
       "      <td>-3.201346e-04</td>\n",
       "      <td>-0.000088</td>\n",
       "      <td>-0.000371</td>\n",
       "      <td>-0.000590</td>\n",
       "      <td>0.000414</td>\n",
       "    </tr>\n",
       "    <tr>\n",
       "      <th>Item_Type_New_2</th>\n",
       "      <td>5.203730e-02</td>\n",
       "      <td>-0.088308</td>\n",
       "      <td>0.009151</td>\n",
       "      <td>-0.010861</td>\n",
       "      <td>0.000864</td>\n",
       "      <td>-0.332920</td>\n",
       "      <td>-0.443508</td>\n",
       "      <td>1.000000</td>\n",
       "      <td>-0.356971</td>\n",
       "      <td>0.000951</td>\n",
       "      <td>...</td>\n",
       "      <td>0.001516</td>\n",
       "      <td>-0.000965</td>\n",
       "      <td>-0.000453</td>\n",
       "      <td>-0.001357</td>\n",
       "      <td>1.186191e-03</td>\n",
       "      <td>1.095731e-04</td>\n",
       "      <td>-0.000639</td>\n",
       "      <td>0.000733</td>\n",
       "      <td>0.000515</td>\n",
       "      <td>-0.000062</td>\n",
       "    </tr>\n",
       "    <tr>\n",
       "      <th>Outlet_0</th>\n",
       "      <td>-4.362424e-03</td>\n",
       "      <td>0.160991</td>\n",
       "      <td>0.000658</td>\n",
       "      <td>-0.284883</td>\n",
       "      <td>-0.005338</td>\n",
       "      <td>0.004884</td>\n",
       "      <td>-0.002996</td>\n",
       "      <td>0.001516</td>\n",
       "      <td>0.001880</td>\n",
       "      <td>-0.164672</td>\n",
       "      <td>...</td>\n",
       "      <td>1.000000</td>\n",
       "      <td>-0.092472</td>\n",
       "      <td>-0.092138</td>\n",
       "      <td>-0.092238</td>\n",
       "      <td>-6.782850e-02</td>\n",
       "      <td>-9.267270e-02</td>\n",
       "      <td>-0.092372</td>\n",
       "      <td>-0.092305</td>\n",
       "      <td>-0.092372</td>\n",
       "      <td>-0.092372</td>\n",
       "    </tr>\n",
       "    <tr>\n",
       "      <th>Outlet_1</th>\n",
       "      <td>-3.901750e-04</td>\n",
       "      <td>-0.032823</td>\n",
       "      <td>0.000697</td>\n",
       "      <td>0.024170</td>\n",
       "      <td>0.453297</td>\n",
       "      <td>-0.000637</td>\n",
       "      <td>0.000647</td>\n",
       "      <td>-0.000965</td>\n",
       "      <td>0.000116</td>\n",
       "      <td>-0.218602</td>\n",
       "      <td>...</td>\n",
       "      <td>-0.092472</td>\n",
       "      <td>1.000000</td>\n",
       "      <td>-0.122313</td>\n",
       "      <td>-0.122446</td>\n",
       "      <td>-9.004245e-02</td>\n",
       "      <td>-1.230232e-01</td>\n",
       "      <td>-0.122624</td>\n",
       "      <td>-0.122535</td>\n",
       "      <td>-0.122624</td>\n",
       "      <td>-0.122624</td>\n",
       "    </tr>\n",
       "    <tr>\n",
       "      <th>Outlet_2</th>\n",
       "      <td>-8.883043e-04</td>\n",
       "      <td>-0.031126</td>\n",
       "      <td>-0.000034</td>\n",
       "      <td>0.032610</td>\n",
       "      <td>-0.382375</td>\n",
       "      <td>-0.001984</td>\n",
       "      <td>0.000910</td>\n",
       "      <td>-0.000453</td>\n",
       "      <td>-0.000578</td>\n",
       "      <td>-0.217811</td>\n",
       "      <td>...</td>\n",
       "      <td>-0.092138</td>\n",
       "      <td>-0.122313</td>\n",
       "      <td>1.000000</td>\n",
       "      <td>-0.122003</td>\n",
       "      <td>-8.971664e-02</td>\n",
       "      <td>-1.225780e-01</td>\n",
       "      <td>-0.122180</td>\n",
       "      <td>-0.122092</td>\n",
       "      <td>-0.122180</td>\n",
       "      <td>-0.122180</td>\n",
       "    </tr>\n",
       "    <tr>\n",
       "      <th>Outlet_3</th>\n",
       "      <td>8.901252e-04</td>\n",
       "      <td>-0.034068</td>\n",
       "      <td>-0.000023</td>\n",
       "      <td>-0.038059</td>\n",
       "      <td>-0.466286</td>\n",
       "      <td>-0.000998</td>\n",
       "      <td>0.000741</td>\n",
       "      <td>-0.001357</td>\n",
       "      <td>0.000340</td>\n",
       "      <td>-0.218049</td>\n",
       "      <td>...</td>\n",
       "      <td>-0.092238</td>\n",
       "      <td>-0.122446</td>\n",
       "      <td>-0.122003</td>\n",
       "      <td>1.000000</td>\n",
       "      <td>-8.981445e-02</td>\n",
       "      <td>-1.227117e-01</td>\n",
       "      <td>-0.122313</td>\n",
       "      <td>-0.122225</td>\n",
       "      <td>-0.122313</td>\n",
       "      <td>-0.122313</td>\n",
       "    </tr>\n",
       "    <tr>\n",
       "      <th>Outlet_4</th>\n",
       "      <td>3.549387e-14</td>\n",
       "      <td>0.174987</td>\n",
       "      <td>-0.001046</td>\n",
       "      <td>-0.277250</td>\n",
       "      <td>0.393892</td>\n",
       "      <td>0.005935</td>\n",
       "      <td>-0.000376</td>\n",
       "      <td>0.001186</td>\n",
       "      <td>-0.000580</td>\n",
       "      <td>0.411901</td>\n",
       "      <td>...</td>\n",
       "      <td>-0.067828</td>\n",
       "      <td>-0.090042</td>\n",
       "      <td>-0.089717</td>\n",
       "      <td>-0.089814</td>\n",
       "      <td>1.000000e+00</td>\n",
       "      <td>-9.023763e-02</td>\n",
       "      <td>-0.089945</td>\n",
       "      <td>-0.089880</td>\n",
       "      <td>-0.089945</td>\n",
       "      <td>-0.089945</td>\n",
       "    </tr>\n",
       "    <tr>\n",
       "      <th>Outlet_5</th>\n",
       "      <td>4.870556e-14</td>\n",
       "      <td>-0.033756</td>\n",
       "      <td>0.000042</td>\n",
       "      <td>0.311192</td>\n",
       "      <td>0.538167</td>\n",
       "      <td>-0.001085</td>\n",
       "      <td>-0.000143</td>\n",
       "      <td>0.000110</td>\n",
       "      <td>0.000059</td>\n",
       "      <td>-0.219076</td>\n",
       "      <td>...</td>\n",
       "      <td>-0.092673</td>\n",
       "      <td>-0.123023</td>\n",
       "      <td>-0.122578</td>\n",
       "      <td>-0.122712</td>\n",
       "      <td>-9.023763e-02</td>\n",
       "      <td>1.000000e+00</td>\n",
       "      <td>-0.122890</td>\n",
       "      <td>-0.122801</td>\n",
       "      <td>-0.122890</td>\n",
       "      <td>-0.122890</td>\n",
       "    </tr>\n",
       "    <tr>\n",
       "      <th>Outlet_6</th>\n",
       "      <td>9.599681e-04</td>\n",
       "      <td>-0.030757</td>\n",
       "      <td>0.000576</td>\n",
       "      <td>0.052823</td>\n",
       "      <td>-0.257925</td>\n",
       "      <td>-0.000653</td>\n",
       "      <td>0.000363</td>\n",
       "      <td>-0.000639</td>\n",
       "      <td>0.000144</td>\n",
       "      <td>-0.218365</td>\n",
       "      <td>...</td>\n",
       "      <td>-0.092372</td>\n",
       "      <td>-0.122624</td>\n",
       "      <td>-0.122180</td>\n",
       "      <td>-0.122313</td>\n",
       "      <td>-8.994478e-02</td>\n",
       "      <td>-1.228897e-01</td>\n",
       "      <td>1.000000</td>\n",
       "      <td>-0.122402</td>\n",
       "      <td>-0.122491</td>\n",
       "      <td>-0.122491</td>\n",
       "    </tr>\n",
       "    <tr>\n",
       "      <th>Outlet_7</th>\n",
       "      <td>3.503900e-04</td>\n",
       "      <td>-0.029726</td>\n",
       "      <td>-0.000832</td>\n",
       "      <td>0.002274</td>\n",
       "      <td>-0.174183</td>\n",
       "      <td>-0.000826</td>\n",
       "      <td>-0.000582</td>\n",
       "      <td>0.000733</td>\n",
       "      <td>0.000006</td>\n",
       "      <td>-0.218207</td>\n",
       "      <td>...</td>\n",
       "      <td>-0.092305</td>\n",
       "      <td>-0.122535</td>\n",
       "      <td>-0.122092</td>\n",
       "      <td>-0.122225</td>\n",
       "      <td>-8.987963e-02</td>\n",
       "      <td>-1.228007e-01</td>\n",
       "      <td>-0.122402</td>\n",
       "      <td>1.000000</td>\n",
       "      <td>-0.122402</td>\n",
       "      <td>-0.122402</td>\n",
       "    </tr>\n",
       "    <tr>\n",
       "      <th>Outlet_8</th>\n",
       "      <td>1.691105e-03</td>\n",
       "      <td>-0.033817</td>\n",
       "      <td>-0.001032</td>\n",
       "      <td>0.019803</td>\n",
       "      <td>0.034729</td>\n",
       "      <td>-0.000653</td>\n",
       "      <td>0.000363</td>\n",
       "      <td>0.000515</td>\n",
       "      <td>-0.000800</td>\n",
       "      <td>0.560946</td>\n",
       "      <td>...</td>\n",
       "      <td>-0.092372</td>\n",
       "      <td>-0.122624</td>\n",
       "      <td>-0.122180</td>\n",
       "      <td>-0.122313</td>\n",
       "      <td>-8.994478e-02</td>\n",
       "      <td>-1.228897e-01</td>\n",
       "      <td>-0.122491</td>\n",
       "      <td>-0.122402</td>\n",
       "      <td>1.000000</td>\n",
       "      <td>-0.122491</td>\n",
       "    </tr>\n",
       "    <tr>\n",
       "      <th>Outlet_9</th>\n",
       "      <td>8.389118e-04</td>\n",
       "      <td>-0.036629</td>\n",
       "      <td>0.000892</td>\n",
       "      <td>0.034264</td>\n",
       "      <td>-0.048886</td>\n",
       "      <td>-0.001620</td>\n",
       "      <td>0.000363</td>\n",
       "      <td>-0.000062</td>\n",
       "      <td>-0.000328</td>\n",
       "      <td>0.560946</td>\n",
       "      <td>...</td>\n",
       "      <td>-0.092372</td>\n",
       "      <td>-0.122624</td>\n",
       "      <td>-0.122180</td>\n",
       "      <td>-0.122313</td>\n",
       "      <td>-8.994478e-02</td>\n",
       "      <td>-1.228897e-01</td>\n",
       "      <td>-0.122491</td>\n",
       "      <td>-0.122402</td>\n",
       "      <td>-0.122491</td>\n",
       "      <td>1.000000</td>\n",
       "    </tr>\n",
       "  </tbody>\n",
       "</table>\n",
       "<p>32 rows × 32 columns</p>\n",
       "</div>"
      ],
      "text/plain": [
       "                         Item_Weight  Item_Visibility  Item_MRP  \\\n",
       "Item_Weight             1.000000e+00        -0.014883  0.033002   \n",
       "Item_Visibility        -1.488268e-02         1.000000 -0.003666   \n",
       "Item_MRP                3.300183e-02        -0.003666  1.000000   \n",
       "Item_Outlet_Sales       1.108344e-02        -0.108199  0.567574   \n",
       "Outlet_Years           -4.620424e-04         0.071423 -0.000141   \n",
       "Item_Type1              2.013985e-02         0.041820  0.031091   \n",
       "Item_Fat_Content_0     -1.202120e-02         0.020123 -0.003337   \n",
       "Item_Fat_Content_1      5.203730e-02        -0.088308  0.009151   \n",
       "Item_Fat_Content_2     -3.010050e-02         0.051371 -0.004019   \n",
       "Outlet_Location_Type_0  1.756513e-03         0.045024 -0.000658   \n",
       "Outlet_Location_Type_1  2.816123e-04        -0.060847 -0.000192   \n",
       "Outlet_Location_Type_2 -1.885489e-03         0.017031  0.000790   \n",
       "Outlet_Size_0          -3.901750e-04        -0.032823  0.000697   \n",
       "Outlet_Size_1           1.147868e-03        -0.069416  0.000605   \n",
       "Outlet_Size_2          -8.407531e-04         0.086337 -0.001011   \n",
       "Outlet_Type_0          -3.231838e-03         0.245926 -0.000269   \n",
       "Outlet_Type_1           1.680383e-03        -0.127728  0.000176   \n",
       "Outlet_Type_2           8.901252e-04        -0.034068 -0.000023   \n",
       "Outlet_Type_3           4.870556e-14        -0.033756  0.000042   \n",
       "Item_Type_New_0        -4.252652e-02         0.002151 -0.042036   \n",
       "Item_Type_New_1        -1.787750e-02         0.075478  0.019135   \n",
       "Item_Type_New_2         5.203730e-02        -0.088308  0.009151   \n",
       "Outlet_0               -4.362424e-03         0.160991  0.000658   \n",
       "Outlet_1               -3.901750e-04        -0.032823  0.000697   \n",
       "Outlet_2               -8.883043e-04        -0.031126 -0.000034   \n",
       "Outlet_3                8.901252e-04        -0.034068 -0.000023   \n",
       "Outlet_4                3.549387e-14         0.174987 -0.001046   \n",
       "Outlet_5                4.870556e-14        -0.033756  0.000042   \n",
       "Outlet_6                9.599681e-04        -0.030757  0.000576   \n",
       "Outlet_7                3.503900e-04        -0.029726 -0.000832   \n",
       "Outlet_8                1.691105e-03        -0.033817 -0.001032   \n",
       "Outlet_9                8.389118e-04        -0.036629  0.000892   \n",
       "\n",
       "                        Item_Outlet_Sales  Outlet_Years  Item_Type1  \\\n",
       "Item_Weight                      0.011083     -0.000462    0.020140   \n",
       "Item_Visibility                 -0.108199      0.071423    0.041820   \n",
       "Item_MRP                         0.567574     -0.000141    0.031091   \n",
       "Item_Outlet_Sales                1.000000      0.049135    0.024315   \n",
       "Outlet_Years                     0.049135      1.000000    0.002811   \n",
       "Item_Type1                       0.024315      0.002811    1.000000   \n",
       "Item_Fat_Content_0              -0.009438     -0.000547    0.092616   \n",
       "Item_Fat_Content_1              -0.010861      0.000864   -0.332920   \n",
       "Item_Fat_Content_2               0.018719     -0.000137    0.176203   \n",
       "Outlet_Location_Type_0          -0.111287      0.201609    0.001608   \n",
       "Outlet_Location_Type_1           0.058261     -0.540880   -0.002299   \n",
       "Outlet_Location_Type_2           0.046376      0.334013    0.000730   \n",
       "Outlet_Size_0                    0.024170      0.453297   -0.000637   \n",
       "Outlet_Size_1                    0.204701      0.016534   -0.002461   \n",
       "Outlet_Size_2                   -0.208912     -0.300826    0.002729   \n",
       "Outlet_Type_0                   -0.411727      0.281150    0.007914   \n",
       "Outlet_Type_1                    0.108765     -0.245260   -0.004175   \n",
       "Outlet_Type_2                   -0.038059     -0.466286   -0.000998   \n",
       "Outlet_Type_3                    0.311192      0.538167   -0.001085   \n",
       "Item_Type_New_0                 -0.034672     -0.002841   -0.101440   \n",
       "Item_Type_New_1                  0.031905      0.001080    0.355177   \n",
       "Item_Type_New_2                 -0.010861      0.000864   -0.332920   \n",
       "Outlet_0                        -0.284883     -0.005338    0.004884   \n",
       "Outlet_1                         0.024170      0.453297   -0.000637   \n",
       "Outlet_2                         0.032610     -0.382375   -0.001984   \n",
       "Outlet_3                        -0.038059     -0.466286   -0.000998   \n",
       "Outlet_4                        -0.277250      0.393892    0.005935   \n",
       "Outlet_5                         0.311192      0.538167   -0.001085   \n",
       "Outlet_6                         0.052823     -0.257925   -0.000653   \n",
       "Outlet_7                         0.002274     -0.174183   -0.000826   \n",
       "Outlet_8                         0.019803      0.034729   -0.000653   \n",
       "Outlet_9                         0.034264     -0.048886   -0.001620   \n",
       "\n",
       "                        Item_Fat_Content_0  Item_Fat_Content_1  \\\n",
       "Item_Weight                      -0.012021            0.052037   \n",
       "Item_Visibility                   0.020123           -0.088308   \n",
       "Item_MRP                         -0.003337            0.009151   \n",
       "Item_Outlet_Sales                -0.009438           -0.010861   \n",
       "Outlet_Years                     -0.000547            0.000864   \n",
       "Item_Type1                        0.092616           -0.332920   \n",
       "Item_Fat_Content_0                1.000000           -0.443508   \n",
       "Item_Fat_Content_1               -0.443508            1.000000   \n",
       "Item_Fat_Content_2               -0.678900           -0.356971   \n",
       "Outlet_Location_Type_0            0.000303            0.000951   \n",
       "Outlet_Location_Type_1            0.000459           -0.000238   \n",
       "Outlet_Location_Type_2           -0.000719           -0.000646   \n",
       "Outlet_Size_0                     0.000647           -0.000965   \n",
       "Outlet_Size_1                     0.000638           -0.000869   \n",
       "Outlet_Size_2                    -0.001011            0.001429   \n",
       "Outlet_Type_0                    -0.002492            0.001982   \n",
       "Outlet_Type_1                     0.001354           -0.000571   \n",
       "Outlet_Type_2                     0.000741           -0.001357   \n",
       "Outlet_Type_3                    -0.000143            0.000110   \n",
       "Item_Type_New_0                   0.294973           -0.154377   \n",
       "Item_Type_New_1                   0.195869           -0.770891   \n",
       "Item_Type_New_2                  -0.443508            1.000000   \n",
       "Outlet_0                         -0.002996            0.001516   \n",
       "Outlet_1                          0.000647           -0.000965   \n",
       "Outlet_2                          0.000910           -0.000453   \n",
       "Outlet_3                          0.000741           -0.001357   \n",
       "Outlet_4                         -0.000376            0.001186   \n",
       "Outlet_5                         -0.000143            0.000110   \n",
       "Outlet_6                          0.000363           -0.000639   \n",
       "Outlet_7                         -0.000582            0.000733   \n",
       "Outlet_8                          0.000363            0.000515   \n",
       "Outlet_9                          0.000363           -0.000062   \n",
       "\n",
       "                        Item_Fat_Content_2  Outlet_Location_Type_0  ...  \\\n",
       "Item_Weight                      -0.030101                0.001757  ...   \n",
       "Item_Visibility                   0.051371                0.045024  ...   \n",
       "Item_MRP                         -0.004019               -0.000658  ...   \n",
       "Item_Outlet_Sales                 0.018719               -0.111287  ...   \n",
       "Outlet_Years                     -0.000137                0.201609  ...   \n",
       "Item_Type1                        0.176203                0.001608  ...   \n",
       "Item_Fat_Content_0               -0.678900                0.000303  ...   \n",
       "Item_Fat_Content_1               -0.356971                0.000951  ...   \n",
       "Item_Fat_Content_2                1.000000               -0.001095  ...   \n",
       "Outlet_Location_Type_0           -0.001095                1.000000  ...   \n",
       "Outlet_Location_Type_1           -0.000283               -0.434650  ...   \n",
       "Outlet_Location_Type_2            0.001279               -0.502095  ...   \n",
       "Outlet_Size_0                     0.000116               -0.218602  ...   \n",
       "Outlet_Size_1                     0.000047                0.082044  ...   \n",
       "Outlet_Size_2                    -0.000118                0.059890  ...   \n",
       "Outlet_Type_0                     0.000973                0.176145  ...   \n",
       "Outlet_Type_1                    -0.000943                0.163425  ...   \n",
       "Outlet_Type_2                     0.000340               -0.218049  ...   \n",
       "Outlet_Type_3                     0.000059               -0.219076  ...   \n",
       "Item_Type_New_0                  -0.180962               -0.003798  ...   \n",
       "Item_Type_New_1                   0.427379                0.001621  ...   \n",
       "Item_Type_New_2                  -0.356971                0.000951  ...   \n",
       "Outlet_0                          0.001880               -0.164672  ...   \n",
       "Outlet_1                          0.000116               -0.218602  ...   \n",
       "Outlet_2                         -0.000578               -0.217811  ...   \n",
       "Outlet_3                          0.000340               -0.218049  ...   \n",
       "Outlet_4                         -0.000580                0.411901  ...   \n",
       "Outlet_5                          0.000059               -0.219076  ...   \n",
       "Outlet_6                          0.000144               -0.218365  ...   \n",
       "Outlet_7                          0.000006               -0.218207  ...   \n",
       "Outlet_8                         -0.000800                0.560946  ...   \n",
       "Outlet_9                         -0.000328                0.560946  ...   \n",
       "\n",
       "                        Outlet_0  Outlet_1  Outlet_2  Outlet_3      Outlet_4  \\\n",
       "Item_Weight            -0.004362 -0.000390 -0.000888  0.000890  3.549387e-14   \n",
       "Item_Visibility         0.160991 -0.032823 -0.031126 -0.034068  1.749870e-01   \n",
       "Item_MRP                0.000658  0.000697 -0.000034 -0.000023 -1.045579e-03   \n",
       "Item_Outlet_Sales      -0.284883  0.024170  0.032610 -0.038059 -2.772498e-01   \n",
       "Outlet_Years           -0.005338  0.453297 -0.382375 -0.466286  3.938921e-01   \n",
       "Item_Type1              0.004884 -0.000637 -0.001984 -0.000998  5.934942e-03   \n",
       "Item_Fat_Content_0     -0.002996  0.000647  0.000910  0.000741 -3.760499e-04   \n",
       "Item_Fat_Content_1      0.001516 -0.000965 -0.000453 -0.001357  1.186191e-03   \n",
       "Item_Fat_Content_2      0.001880  0.000116 -0.000578  0.000340 -5.798065e-04   \n",
       "Outlet_Location_Type_0 -0.164672 -0.218602 -0.217811 -0.218049  4.119011e-01   \n",
       "Outlet_Location_Type_1 -0.183864 -0.244080  0.501118 -0.243462 -1.790329e-01   \n",
       "Outlet_Location_Type_2  0.327969  0.435380 -0.280934  0.434277 -2.068136e-01   \n",
       "Outlet_Size_0          -0.092472  1.000000 -0.122313 -0.122446 -9.004245e-02   \n",
       "Outlet_Size_1          -0.184276 -0.244627 -0.243742  0.500543 -1.794341e-01   \n",
       "Outlet_Size_2           0.232556 -0.397634  0.307601 -0.396627  2.264454e-01   \n",
       "Outlet_Type_0           0.691740 -0.133681 -0.133197 -0.133342  6.735638e-01   \n",
       "Outlet_Type_1          -0.363119  0.254661  0.253740 -0.480820 -3.535775e-01   \n",
       "Outlet_Type_2          -0.092238 -0.122446 -0.122003  1.000000 -8.981445e-02   \n",
       "Outlet_Type_3          -0.092673 -0.123023 -0.122578 -0.122712 -9.023763e-02   \n",
       "Item_Type_New_0         0.002197  0.000782  0.001507  0.000510 -6.639367e-03   \n",
       "Item_Type_New_1        -0.002736  0.000336 -0.000578  0.000853  3.247890e-03   \n",
       "Item_Type_New_2         0.001516 -0.000965 -0.000453 -0.001357  1.186191e-03   \n",
       "Outlet_0                1.000000 -0.092472 -0.092138 -0.092238 -6.782850e-02   \n",
       "Outlet_1               -0.092472  1.000000 -0.122313 -0.122446 -9.004245e-02   \n",
       "Outlet_2               -0.092138 -0.122313  1.000000 -0.122003 -8.971664e-02   \n",
       "Outlet_3               -0.092238 -0.122446 -0.122003  1.000000 -8.981445e-02   \n",
       "Outlet_4               -0.067828 -0.090042 -0.089717 -0.089814  1.000000e+00   \n",
       "Outlet_5               -0.092673 -0.123023 -0.122578 -0.122712 -9.023763e-02   \n",
       "Outlet_6               -0.092372 -0.122624 -0.122180 -0.122313 -8.994478e-02   \n",
       "Outlet_7               -0.092305 -0.122535 -0.122092 -0.122225 -8.987963e-02   \n",
       "Outlet_8               -0.092372 -0.122624 -0.122180 -0.122313 -8.994478e-02   \n",
       "Outlet_9               -0.092372 -0.122624 -0.122180 -0.122313 -8.994478e-02   \n",
       "\n",
       "                            Outlet_5  Outlet_6  Outlet_7  Outlet_8  Outlet_9  \n",
       "Item_Weight             4.870556e-14  0.000960  0.000350  0.001691  0.000839  \n",
       "Item_Visibility        -3.375612e-02 -0.030757 -0.029726 -0.033817 -0.036629  \n",
       "Item_MRP                4.167967e-05  0.000576 -0.000832 -0.001032  0.000892  \n",
       "Item_Outlet_Sales       3.111920e-01  0.052823  0.002274  0.019803  0.034264  \n",
       "Outlet_Years            5.381668e-01 -0.257925 -0.174183  0.034729 -0.048886  \n",
       "Item_Type1             -1.085274e-03 -0.000653 -0.000826 -0.000653 -0.001620  \n",
       "Item_Fat_Content_0     -1.428754e-04  0.000363 -0.000582  0.000363  0.000363  \n",
       "Item_Fat_Content_1      1.095731e-04 -0.000639  0.000733  0.000515 -0.000062  \n",
       "Item_Fat_Content_2      5.914536e-05  0.000144  0.000006 -0.000800 -0.000328  \n",
       "Outlet_Location_Type_0 -2.190760e-01 -0.218365 -0.218207  0.560946  0.560946  \n",
       "Outlet_Location_Type_1 -2.446090e-01  0.502393  0.502029 -0.243815 -0.243815  \n",
       "Outlet_Location_Type_2  4.363235e-01 -0.281648 -0.281444 -0.281648 -0.281648  \n",
       "Outlet_Size_0          -1.230232e-01 -0.122624 -0.122535 -0.122624 -0.122624  \n",
       "Outlet_Size_1           5.029013e-01 -0.244362 -0.244185 -0.244362  0.501269  \n",
       "Outlet_Size_2          -3.984962e-01  0.308384  0.308160  0.308384 -0.397203  \n",
       "Outlet_Type_0          -1.339704e-01 -0.133536 -0.133439 -0.133536 -0.133536  \n",
       "Outlet_Type_1          -4.830858e-01  0.254385  0.254201  0.254385  0.254385  \n",
       "Outlet_Type_2          -1.227117e-01 -0.122313 -0.122225 -0.122313 -0.122313  \n",
       "Outlet_Type_3           1.000000e+00 -0.122890 -0.122801 -0.122890 -0.122890  \n",
       "Item_Type_New_0         3.486303e-04  0.000999 -0.000414  0.000221 -0.000558  \n",
       "Item_Type_New_1        -3.201346e-04 -0.000088 -0.000371 -0.000590  0.000414  \n",
       "Item_Type_New_2         1.095731e-04 -0.000639  0.000733  0.000515 -0.000062  \n",
       "Outlet_0               -9.267270e-02 -0.092372 -0.092305 -0.092372 -0.092372  \n",
       "Outlet_1               -1.230232e-01 -0.122624 -0.122535 -0.122624 -0.122624  \n",
       "Outlet_2               -1.225780e-01 -0.122180 -0.122092 -0.122180 -0.122180  \n",
       "Outlet_3               -1.227117e-01 -0.122313 -0.122225 -0.122313 -0.122313  \n",
       "Outlet_4               -9.023763e-02 -0.089945 -0.089880 -0.089945 -0.089945  \n",
       "Outlet_5                1.000000e+00 -0.122890 -0.122801 -0.122890 -0.122890  \n",
       "Outlet_6               -1.228897e-01  1.000000 -0.122402 -0.122491 -0.122491  \n",
       "Outlet_7               -1.228007e-01 -0.122402  1.000000 -0.122402 -0.122402  \n",
       "Outlet_8               -1.228897e-01 -0.122491 -0.122402  1.000000 -0.122491  \n",
       "Outlet_9               -1.228897e-01 -0.122491 -0.122402 -0.122491  1.000000  \n",
       "\n",
       "[32 rows x 32 columns]"
      ]
     },
     "execution_count": 49,
     "metadata": {},
     "output_type": "execute_result"
    }
   ],
   "source": [
    "pd.DataFrame.corr(combi)\n",
    "#Since there is no such greater correlation between a speciic column w.r.t other columns lets move to modelling now"
   ]
  },
  {
   "cell_type": "markdown",
   "metadata": {},
   "source": [
    "##### Now Segregating train and test data"
   ]
  },
  {
   "cell_type": "code",
   "execution_count": 50,
   "metadata": {},
   "outputs": [],
   "source": [
    "train=combi.iloc[0:8523,0:34]\n",
    "test=combi.iloc[8524:14204,0:34]\n",
    "#SEGREGATING TEST AND TRAIN Data_Munging.ipynb"
   ]
  },
  {
   "cell_type": "code",
   "execution_count": 51,
   "metadata": {},
   "outputs": [
    {
     "data": {
      "text/html": [
       "<div>\n",
       "<style scoped>\n",
       "    .dataframe tbody tr th:only-of-type {\n",
       "        vertical-align: middle;\n",
       "    }\n",
       "\n",
       "    .dataframe tbody tr th {\n",
       "        vertical-align: top;\n",
       "    }\n",
       "\n",
       "    .dataframe thead th {\n",
       "        text-align: right;\n",
       "    }\n",
       "</style>\n",
       "<table border=\"1\" class=\"dataframe\">\n",
       "  <thead>\n",
       "    <tr style=\"text-align: right;\">\n",
       "      <th></th>\n",
       "      <th>Item_Identifier</th>\n",
       "      <th>Item_Weight</th>\n",
       "      <th>Item_Visibility</th>\n",
       "      <th>Item_MRP</th>\n",
       "      <th>Outlet_Identifier</th>\n",
       "      <th>Item_Outlet_Sales</th>\n",
       "      <th>Outlet_Years</th>\n",
       "      <th>Item_Type1</th>\n",
       "      <th>Item_Fat_Content_0</th>\n",
       "      <th>Item_Fat_Content_1</th>\n",
       "      <th>...</th>\n",
       "      <th>Outlet_0</th>\n",
       "      <th>Outlet_1</th>\n",
       "      <th>Outlet_2</th>\n",
       "      <th>Outlet_3</th>\n",
       "      <th>Outlet_4</th>\n",
       "      <th>Outlet_5</th>\n",
       "      <th>Outlet_6</th>\n",
       "      <th>Outlet_7</th>\n",
       "      <th>Outlet_8</th>\n",
       "      <th>Outlet_9</th>\n",
       "    </tr>\n",
       "  </thead>\n",
       "  <tbody>\n",
       "    <tr>\n",
       "      <th>0</th>\n",
       "      <td>FDA15</td>\n",
       "      <td>9.300</td>\n",
       "      <td>0.355918</td>\n",
       "      <td>249.8092</td>\n",
       "      <td>OUT049</td>\n",
       "      <td>3735.1380</td>\n",
       "      <td>14</td>\n",
       "      <td>1</td>\n",
       "      <td>1</td>\n",
       "      <td>0</td>\n",
       "      <td>...</td>\n",
       "      <td>0</td>\n",
       "      <td>0</td>\n",
       "      <td>0</td>\n",
       "      <td>0</td>\n",
       "      <td>0</td>\n",
       "      <td>0</td>\n",
       "      <td>0</td>\n",
       "      <td>0</td>\n",
       "      <td>0</td>\n",
       "      <td>1</td>\n",
       "    </tr>\n",
       "    <tr>\n",
       "      <th>1</th>\n",
       "      <td>DRC01</td>\n",
       "      <td>5.920</td>\n",
       "      <td>0.372620</td>\n",
       "      <td>48.2692</td>\n",
       "      <td>OUT018</td>\n",
       "      <td>443.4228</td>\n",
       "      <td>4</td>\n",
       "      <td>0</td>\n",
       "      <td>0</td>\n",
       "      <td>0</td>\n",
       "      <td>...</td>\n",
       "      <td>0</td>\n",
       "      <td>0</td>\n",
       "      <td>0</td>\n",
       "      <td>1</td>\n",
       "      <td>0</td>\n",
       "      <td>0</td>\n",
       "      <td>0</td>\n",
       "      <td>0</td>\n",
       "      <td>0</td>\n",
       "      <td>0</td>\n",
       "    </tr>\n",
       "    <tr>\n",
       "      <th>2</th>\n",
       "      <td>FDN15</td>\n",
       "      <td>17.500</td>\n",
       "      <td>0.359806</td>\n",
       "      <td>141.6180</td>\n",
       "      <td>OUT049</td>\n",
       "      <td>2097.2700</td>\n",
       "      <td>14</td>\n",
       "      <td>1</td>\n",
       "      <td>1</td>\n",
       "      <td>0</td>\n",
       "      <td>...</td>\n",
       "      <td>0</td>\n",
       "      <td>0</td>\n",
       "      <td>0</td>\n",
       "      <td>0</td>\n",
       "      <td>0</td>\n",
       "      <td>0</td>\n",
       "      <td>0</td>\n",
       "      <td>0</td>\n",
       "      <td>0</td>\n",
       "      <td>1</td>\n",
       "    </tr>\n",
       "    <tr>\n",
       "      <th>3</th>\n",
       "      <td>FDX07</td>\n",
       "      <td>19.200</td>\n",
       "      <td>0.506767</td>\n",
       "      <td>182.0950</td>\n",
       "      <td>OUT010</td>\n",
       "      <td>732.3800</td>\n",
       "      <td>15</td>\n",
       "      <td>1</td>\n",
       "      <td>0</td>\n",
       "      <td>0</td>\n",
       "      <td>...</td>\n",
       "      <td>1</td>\n",
       "      <td>0</td>\n",
       "      <td>0</td>\n",
       "      <td>0</td>\n",
       "      <td>0</td>\n",
       "      <td>0</td>\n",
       "      <td>0</td>\n",
       "      <td>0</td>\n",
       "      <td>0</td>\n",
       "      <td>0</td>\n",
       "    </tr>\n",
       "    <tr>\n",
       "      <th>4</th>\n",
       "      <td>NCD19</td>\n",
       "      <td>8.930</td>\n",
       "      <td>0.506767</td>\n",
       "      <td>53.8614</td>\n",
       "      <td>OUT013</td>\n",
       "      <td>994.7052</td>\n",
       "      <td>26</td>\n",
       "      <td>0</td>\n",
       "      <td>0</td>\n",
       "      <td>1</td>\n",
       "      <td>...</td>\n",
       "      <td>0</td>\n",
       "      <td>1</td>\n",
       "      <td>0</td>\n",
       "      <td>0</td>\n",
       "      <td>0</td>\n",
       "      <td>0</td>\n",
       "      <td>0</td>\n",
       "      <td>0</td>\n",
       "      <td>0</td>\n",
       "      <td>0</td>\n",
       "    </tr>\n",
       "    <tr>\n",
       "      <th>...</th>\n",
       "      <td>...</td>\n",
       "      <td>...</td>\n",
       "      <td>...</td>\n",
       "      <td>...</td>\n",
       "      <td>...</td>\n",
       "      <td>...</td>\n",
       "      <td>...</td>\n",
       "      <td>...</td>\n",
       "      <td>...</td>\n",
       "      <td>...</td>\n",
       "      <td>...</td>\n",
       "      <td>...</td>\n",
       "      <td>...</td>\n",
       "      <td>...</td>\n",
       "      <td>...</td>\n",
       "      <td>...</td>\n",
       "      <td>...</td>\n",
       "      <td>...</td>\n",
       "      <td>...</td>\n",
       "      <td>...</td>\n",
       "      <td>...</td>\n",
       "    </tr>\n",
       "    <tr>\n",
       "      <th>8518</th>\n",
       "      <td>FDF22</td>\n",
       "      <td>6.865</td>\n",
       "      <td>0.488152</td>\n",
       "      <td>214.5218</td>\n",
       "      <td>OUT013</td>\n",
       "      <td>2778.3834</td>\n",
       "      <td>26</td>\n",
       "      <td>0</td>\n",
       "      <td>1</td>\n",
       "      <td>0</td>\n",
       "      <td>...</td>\n",
       "      <td>0</td>\n",
       "      <td>1</td>\n",
       "      <td>0</td>\n",
       "      <td>0</td>\n",
       "      <td>0</td>\n",
       "      <td>0</td>\n",
       "      <td>0</td>\n",
       "      <td>0</td>\n",
       "      <td>0</td>\n",
       "      <td>0</td>\n",
       "    </tr>\n",
       "    <tr>\n",
       "      <th>8519</th>\n",
       "      <td>FDS36</td>\n",
       "      <td>8.380</td>\n",
       "      <td>0.465569</td>\n",
       "      <td>108.1570</td>\n",
       "      <td>OUT045</td>\n",
       "      <td>549.2850</td>\n",
       "      <td>11</td>\n",
       "      <td>0</td>\n",
       "      <td>0</td>\n",
       "      <td>0</td>\n",
       "      <td>...</td>\n",
       "      <td>0</td>\n",
       "      <td>0</td>\n",
       "      <td>0</td>\n",
       "      <td>0</td>\n",
       "      <td>0</td>\n",
       "      <td>0</td>\n",
       "      <td>0</td>\n",
       "      <td>1</td>\n",
       "      <td>0</td>\n",
       "      <td>0</td>\n",
       "    </tr>\n",
       "    <tr>\n",
       "      <th>8520</th>\n",
       "      <td>NCJ29</td>\n",
       "      <td>10.600</td>\n",
       "      <td>0.433105</td>\n",
       "      <td>85.1224</td>\n",
       "      <td>OUT035</td>\n",
       "      <td>1193.1136</td>\n",
       "      <td>9</td>\n",
       "      <td>0</td>\n",
       "      <td>0</td>\n",
       "      <td>1</td>\n",
       "      <td>...</td>\n",
       "      <td>0</td>\n",
       "      <td>0</td>\n",
       "      <td>0</td>\n",
       "      <td>0</td>\n",
       "      <td>0</td>\n",
       "      <td>0</td>\n",
       "      <td>1</td>\n",
       "      <td>0</td>\n",
       "      <td>0</td>\n",
       "      <td>0</td>\n",
       "    </tr>\n",
       "    <tr>\n",
       "      <th>8521</th>\n",
       "      <td>FDN46</td>\n",
       "      <td>7.210</td>\n",
       "      <td>0.617315</td>\n",
       "      <td>103.1332</td>\n",
       "      <td>OUT018</td>\n",
       "      <td>1845.5976</td>\n",
       "      <td>4</td>\n",
       "      <td>0</td>\n",
       "      <td>0</td>\n",
       "      <td>0</td>\n",
       "      <td>...</td>\n",
       "      <td>0</td>\n",
       "      <td>0</td>\n",
       "      <td>0</td>\n",
       "      <td>1</td>\n",
       "      <td>0</td>\n",
       "      <td>0</td>\n",
       "      <td>0</td>\n",
       "      <td>0</td>\n",
       "      <td>0</td>\n",
       "      <td>0</td>\n",
       "    </tr>\n",
       "    <tr>\n",
       "      <th>8522</th>\n",
       "      <td>DRG01</td>\n",
       "      <td>14.800</td>\n",
       "      <td>0.460266</td>\n",
       "      <td>75.4670</td>\n",
       "      <td>OUT046</td>\n",
       "      <td>765.6700</td>\n",
       "      <td>16</td>\n",
       "      <td>0</td>\n",
       "      <td>1</td>\n",
       "      <td>0</td>\n",
       "      <td>...</td>\n",
       "      <td>0</td>\n",
       "      <td>0</td>\n",
       "      <td>0</td>\n",
       "      <td>0</td>\n",
       "      <td>0</td>\n",
       "      <td>0</td>\n",
       "      <td>0</td>\n",
       "      <td>0</td>\n",
       "      <td>1</td>\n",
       "      <td>0</td>\n",
       "    </tr>\n",
       "  </tbody>\n",
       "</table>\n",
       "<p>8523 rows × 34 columns</p>\n",
       "</div>"
      ],
      "text/plain": [
       "     Item_Identifier  Item_Weight  Item_Visibility  Item_MRP  \\\n",
       "0              FDA15        9.300         0.355918  249.8092   \n",
       "1              DRC01        5.920         0.372620   48.2692   \n",
       "2              FDN15       17.500         0.359806  141.6180   \n",
       "3              FDX07       19.200         0.506767  182.0950   \n",
       "4              NCD19        8.930         0.506767   53.8614   \n",
       "...              ...          ...              ...       ...   \n",
       "8518           FDF22        6.865         0.488152  214.5218   \n",
       "8519           FDS36        8.380         0.465569  108.1570   \n",
       "8520           NCJ29       10.600         0.433105   85.1224   \n",
       "8521           FDN46        7.210         0.617315  103.1332   \n",
       "8522           DRG01       14.800         0.460266   75.4670   \n",
       "\n",
       "     Outlet_Identifier  Item_Outlet_Sales  Outlet_Years  Item_Type1  \\\n",
       "0               OUT049          3735.1380            14           1   \n",
       "1               OUT018           443.4228             4           0   \n",
       "2               OUT049          2097.2700            14           1   \n",
       "3               OUT010           732.3800            15           1   \n",
       "4               OUT013           994.7052            26           0   \n",
       "...                ...                ...           ...         ...   \n",
       "8518            OUT013          2778.3834            26           0   \n",
       "8519            OUT045           549.2850            11           0   \n",
       "8520            OUT035          1193.1136             9           0   \n",
       "8521            OUT018          1845.5976             4           0   \n",
       "8522            OUT046           765.6700            16           0   \n",
       "\n",
       "      Item_Fat_Content_0  Item_Fat_Content_1  ...  Outlet_0  Outlet_1  \\\n",
       "0                      1                   0  ...         0         0   \n",
       "1                      0                   0  ...         0         0   \n",
       "2                      1                   0  ...         0         0   \n",
       "3                      0                   0  ...         1         0   \n",
       "4                      0                   1  ...         0         1   \n",
       "...                  ...                 ...  ...       ...       ...   \n",
       "8518                   1                   0  ...         0         1   \n",
       "8519                   0                   0  ...         0         0   \n",
       "8520                   0                   1  ...         0         0   \n",
       "8521                   0                   0  ...         0         0   \n",
       "8522                   1                   0  ...         0         0   \n",
       "\n",
       "      Outlet_2  Outlet_3  Outlet_4  Outlet_5  Outlet_6  Outlet_7  Outlet_8  \\\n",
       "0            0         0         0         0         0         0         0   \n",
       "1            0         1         0         0         0         0         0   \n",
       "2            0         0         0         0         0         0         0   \n",
       "3            0         0         0         0         0         0         0   \n",
       "4            0         0         0         0         0         0         0   \n",
       "...        ...       ...       ...       ...       ...       ...       ...   \n",
       "8518         0         0         0         0         0         0         0   \n",
       "8519         0         0         0         0         0         1         0   \n",
       "8520         0         0         0         0         1         0         0   \n",
       "8521         0         1         0         0         0         0         0   \n",
       "8522         0         0         0         0         0         0         1   \n",
       "\n",
       "      Outlet_9  \n",
       "0            1  \n",
       "1            0  \n",
       "2            1  \n",
       "3            0  \n",
       "4            0  \n",
       "...        ...  \n",
       "8518         0  \n",
       "8519         0  \n",
       "8520         0  \n",
       "8521         0  \n",
       "8522         0  \n",
       "\n",
       "[8523 rows x 34 columns]"
      ]
     },
     "execution_count": 51,
     "metadata": {},
     "output_type": "execute_result"
    }
   ],
   "source": [
    "train"
   ]
  },
  {
   "cell_type": "code",
   "execution_count": 52,
   "metadata": {},
   "outputs": [
    {
     "data": {
      "text/plain": [
       "(5680, 33)"
      ]
     },
     "execution_count": 52,
     "metadata": {},
     "output_type": "execute_result"
    }
   ],
   "source": [
    "#Remove Item_Outlet_Sales column from test dataset as it is unwanted\n",
    "test.drop(['Item_Outlet_Sales'],axis=1,inplace=True)\n",
    "test.shape"
   ]
  },
  {
   "cell_type": "code",
   "execution_count": 58,
   "metadata": {},
   "outputs": [
    {
     "name": "stdout",
     "output_type": "stream",
     "text": [
      "2181.2889135750365\n"
     ]
    }
   ],
   "source": [
    "#Modelling\n",
    "mean_sales = train['Item_Outlet_Sales'].mean()\n",
    "print(mean_sales)"
   ]
  },
  {
   "cell_type": "code",
   "execution_count": 122,
   "metadata": {},
   "outputs": [],
   "source": [
    "from sklearn.model_selection import KFold\n",
    "target = 'Item_Outlet_Sales'\n",
    "IDcol=[\"Item_Identifier\",\"Outlet_Identifier\"]\n",
    "from sklearn import metrics\n",
    "def modelfit(alg, dtrain, dtest, predictors, target,IDcol,filename):\n",
    "    #Fit the algorithm on the data\n",
    "    alg.fit(dtrain[predictors], dtrain[target])\n",
    "        \n",
    "    #Predict training set:\n",
    "    dtrain_predictions = alg.predict(dtrain[predictors])\n",
    "\n",
    "    kf = KFold(5,shuffle=True)  \n",
    "    error=[]\n",
    "    for ptrain, ptest in kf.split(dtrain):\n",
    "        # Filter training data    \n",
    "        x_train = dtrain[predictors].iloc[ptrain,:]            \n",
    "        y_train = dtrain[target].iloc[ptrain]\n",
    "        x_test = dtrain[predictors].iloc[ptest,:]            \n",
    "        y_test = dtrain[target].iloc[ptest]\n",
    "        model=alg.fit(x_train, y_train) \n",
    "        p=alg.predict(x_test)\n",
    "        error.append(np.sqrt(metrics.mean_squared_error(p, y_test)))\n",
    "    print(\"RMSEkfold:\",np.mean(error))\n",
    " \n",
    "    #Print model report:\n",
    "    print (\"\\nModel Report\")\n",
    "    print (\"RMSE : %.4g\" % np.sqrt(metrics.mean_squared_error(dtrain[target].values, dtrain_predictions)))\n",
    "    \n",
    "    \n",
    "    #Predict on testing data:\n",
    "    dtest[target] = alg.predict(dtest[predictors])\n",
    "    #Export submission file:\n",
    "    submission = pd.DataFrame({\"Item_Outlet_Sales\":dtest[target]})\n",
    "    submission.to_csv(filename, index=False)\n",
    "#Here we have defined a general functions for all the models which we are going to use.\n",
    "#In the fuction we are training the model with our train data, we are using KFold cross validation for decreasing overfitting.\n",
    "#We are printing the rmse values of both the model trained by the train data and average rmse value from KFold.\n",
    "#We are then predicting the Item_Outlet_sales of test data and exporting it as a csv file to the local disk."
   ]
  },
  {
   "cell_type": "code",
   "execution_count": 123,
   "metadata": {},
   "outputs": [
    {
     "name": "stdout",
     "output_type": "stream",
     "text": [
      "RMSEkfold: 1129.3967492490938\n",
      "\n",
      "Model Report\n",
      "RMSE : 1127\n"
     ]
    }
   ],
   "source": [
    "from sklearn.linear_model import LinearRegression\n",
    "predictors = [x for x in train.columns if x not in [target]+IDcol]\n",
    "# print predictors\n",
    "linear_regression = LinearRegression(normalize=True)\n",
    "modelfit(l, train, test, predictors, target,IDcol,\"linear_regression.csv\")\n",
    "#we are using linear(Multiple) regression for modelling based on the above given values.\n",
    "#as we can see both the cv rmse value tells us that it is slightly leading towards overfitting we should try other models too."
   ]
  },
  {
   "cell_type": "code",
   "execution_count": 154,
   "metadata": {},
   "outputs": [
    {
     "name": "stdout",
     "output_type": "stream",
     "text": [
      "RMSEkfold: 1097.0921965961375\n",
      "\n",
      "Model Report\n",
      "RMSE : 1059\n"
     ]
    }
   ],
   "source": [
    "from sklearn.tree import DecisionTreeRegressor\n",
    "predictors = [x for x in train.columns if x not in [target]+IDcol]\n",
    "DT = DecisionTreeRegressor(max_depth=15, min_samples_leaf=100)\n",
    "modelfit(DT, train, test, predictors, target, IDcol, 'DT.csv')\n",
    "#using decision tree we're getting better results."
   ]
  },
  {
   "cell_type": "code",
   "execution_count": 152,
   "metadata": {},
   "outputs": [
    {
     "name": "stdout",
     "output_type": "stream",
     "text": [
      "RMSEkfold: 1085.6187749478163\n",
      "\n",
      "Model Report\n",
      "RMSE : 1073\n"
     ]
    }
   ],
   "source": [
    "from sklearn.ensemble import RandomForestRegressor\n",
    "predictors = [x for x in train.columns if x not in [target]+IDcol]\n",
    "RF = RandomForestRegressor(n_estimators=200,max_depth=5, min_samples_leaf=100,n_jobs=5)\n",
    "modelfit(RF, train, test, predictors, target, IDcol, 'RF.csv')\n",
    "#random forest gives the near about same response."
   ]
  },
  {
   "cell_type": "code",
   "execution_count": null,
   "metadata": {},
   "outputs": [],
   "source": []
  }
 ],
 "metadata": {
  "kernelspec": {
   "display_name": "Python 3",
   "language": "python",
   "name": "python3"
  },
  "language_info": {
   "codemirror_mode": {
    "name": "ipython",
    "version": 3
   },
   "file_extension": ".py",
   "mimetype": "text/x-python",
   "name": "python",
   "nbconvert_exporter": "python",
   "pygments_lexer": "ipython3",
   "version": "3.7.6"
  }
 },
 "nbformat": 4,
 "nbformat_minor": 4
}
